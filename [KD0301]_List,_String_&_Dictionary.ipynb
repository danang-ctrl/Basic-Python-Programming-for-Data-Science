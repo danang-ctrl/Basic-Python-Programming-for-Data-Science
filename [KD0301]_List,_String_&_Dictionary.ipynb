{
 "cells": [
  {
   "cell_type": "markdown",
   "metadata": {
    "id": "z4A1mfUYu7qg"
   },
   "source": [
    "![alt text](https://drive.google.com/uc?id=1Jnmc3tPdh1jxyNwURPKEqzpM_qdEwaJc\n",
    ")"
   ]
  },
  {
   "cell_type": "markdown",
   "metadata": {
    "id": "MtoDiMzGwXiA"
   },
   "source": [
    "Assalamualaikum warahmatullahi wabarakatuh.\n",
    "\n",
    "***Robbi Zidni Ilma Warzuqni Fahma***\n",
    "\n",
    "Semoga Allah memberi kemudahan untuk kita memperoleh ilmu yang bermanfaat.\n",
    "\n",
    "Ini adalah notebook yang disusun untuk program **Kelas Dasar Pejuang Data 2.0** .\n",
    "\n",
    "Ini adalah **Notebook, List, String, & Dictionary Pada Python**:\n",
    "\n",
    "## **Hasil Yang Ingin Dicapai**\n",
    "1. Memahami List Pada Python\n",
    "2. Mengenal dan memahami method-method pada List Python\n",
    "3. Memahami String Pada Python\n",
    "4. Mengenal dan memahami method-method pada String Python\n",
    "5. Memahami Dictionary Pada Python\n",
    "6. Mengenal dan memahami method-method pada Dictionary Python\n",
    "\n",
    "\n",
    "\n"
   ]
  },
  {
   "cell_type": "markdown",
   "metadata": {
    "id": "Y0cxNwSpKqLf"
   },
   "source": [
    "# **List Pada Python**\n",
    "List adalah jenis kumpulan data terurut (ordered sequence), dan merupakan salah satu variabel yang sering digunakan pada Python. Serupa, namun tak sama dengan array pada bahasa pemrograman lainnya. Bedanya, elemen List pada Python tidak harus memiliki tipe data yang sama. Mendeklarasikan List cukup mudah dengan kurung siku dan elemen yang dipisahkan dengan koma. \n"
   ]
  },
  {
   "cell_type": "markdown",
   "metadata": {
    "id": "HBL8Vey2Pbf5"
   },
   "source": [
    "## Membuat List"
   ]
  },
  {
   "cell_type": "code",
   "execution_count": 1,
   "metadata": {
    "colab": {
     "base_uri": "https://localhost:8080/"
    },
    "id": "9pOtKzstLp3_",
    "outputId": "96a4e52a-7c7f-496b-a04d-ed9165ee61a1"
   },
   "outputs": [
    {
     "name": "stdout",
     "output_type": "stream",
     "text": [
      "['fuzzy', 'pdp', 'metnum', 'graf']\n"
     ]
    }
   ],
   "source": [
    "matkul = [\"fuzzy\", \"pdp\", \"metnum\" , \"graf\"]\n",
    "print(matkul)"
   ]
  },
  {
   "cell_type": "markdown",
   "metadata": {
    "id": "PbSXryBkPdYT"
   },
   "source": [
    "## Mengakses elemen List"
   ]
  },
  {
   "cell_type": "markdown",
   "metadata": {
    "id": "15RUf2ihMM-Z"
   },
   "source": [
    "Menampilkan elemen\n",
    "caranya dengan menggunakan fungsi print"
   ]
  },
  {
   "cell_type": "code",
   "execution_count": 2,
   "metadata": {
    "colab": {
     "base_uri": "https://localhost:8080/"
    },
    "id": "Hp7Maj7rMf01",
    "outputId": "610f9fc4-c18b-41a5-bea7-0f56bdfcd0f9"
   },
   "outputs": [
    {
     "name": "stdout",
     "output_type": "stream",
     "text": [
      "metnum\n",
      "['metnum', 'graph']\n",
      "['fuzzy', 'metnum']\n",
      "metnum\n",
      "['fuzzy', 'pdp', 'metnum']\n"
     ]
    }
   ],
   "source": [
    "matkul = [\"fuzzy\", \"pdp\", \"metnum\" , \"graph\"]\n",
    "print(matkul[2])\n",
    "print(matkul[2:])\n",
    "print(matkul[0:3:2])\n",
    "print(matkul[-2])\n",
    "print(matkul[-4:-1])"
   ]
  },
  {
   "cell_type": "markdown",
   "metadata": {
    "id": "v-KS7vuvPjYn"
   },
   "source": [
    "## Mengubah elemen List"
   ]
  },
  {
   "cell_type": "markdown",
   "metadata": {
    "id": "RSAg61A8a2qG"
   },
   "source": [
    "cara mengubah elemen dalam list"
   ]
  },
  {
   "cell_type": "code",
   "execution_count": 3,
   "metadata": {
    "colab": {
     "base_uri": "https://localhost:8080/"
    },
    "id": "UvoInRZ-bBWR",
    "outputId": "35be2c92-ddd7-4f1e-a4e5-3bd2f684bf7c"
   },
   "outputs": [
    {
     "name": "stdout",
     "output_type": "stream",
     "text": [
      "['fuzzy', 'pdp', 'metnum', 'aktuaria', 'sisdim']\n"
     ]
    }
   ],
   "source": [
    "matkul = [\"fuzzy\", \"pdp\", \"metnum\" , \"graf\" , \"sisdim\"]\n",
    "matkul[3] = \"aktuaria\"\n",
    "print(matkul)"
   ]
  },
  {
   "cell_type": "markdown",
   "metadata": {
    "id": "qgQOa6EBPmGU"
   },
   "source": [
    "## Looping di dalam List"
   ]
  },
  {
   "cell_type": "markdown",
   "metadata": {
    "id": "cHHmiQv4bY3C"
   },
   "source": [
    "looping pada list"
   ]
  },
  {
   "cell_type": "code",
   "execution_count": 4,
   "metadata": {
    "colab": {
     "base_uri": "https://localhost:8080/"
    },
    "id": "m-2tgYqUbfP3",
    "outputId": "cd1ef9cc-e0ae-46da-c17b-b0c9a4cc9837"
   },
   "outputs": [
    {
     "name": "stdout",
     "output_type": "stream",
     "text": [
      "fuzzy\n",
      "pdp\n",
      "metnum\n",
      "graf\n"
     ]
    }
   ],
   "source": [
    "matkul = [\"fuzzy\", \"pdp\", \"metnum\" , \"graf\"]\n",
    "\n",
    "for x in matkul:\n",
    "  print(x)"
   ]
  },
  {
   "cell_type": "markdown",
   "metadata": {
    "id": "1O4HrdbWPpm4"
   },
   "source": [
    "## Cek elemen pada List"
   ]
  },
  {
   "cell_type": "markdown",
   "metadata": {
    "id": "cv0aU1cEbvOd"
   },
   "source": [
    "cara mengecek apakah suatu elemen berada dalam list"
   ]
  },
  {
   "cell_type": "code",
   "execution_count": 5,
   "metadata": {
    "colab": {
     "base_uri": "https://localhost:8080/"
    },
    "id": "GNNA1lRkcAmT",
    "outputId": "377807b3-2c48-4d53-c3d4-7c2102773771"
   },
   "outputs": [
    {
     "name": "stdout",
     "output_type": "stream",
     "text": [
      "fuzzy termasuk matkul\n"
     ]
    }
   ],
   "source": [
    "matkul = [\"fuzzy\", \"pdp\", \"metnum\" , \"graf\"]\n",
    "if \"fuzzy\" in matkul:\n",
    "  print('fuzzy termasuk matkul')"
   ]
  },
  {
   "cell_type": "markdown",
   "metadata": {
    "id": "uWchVoGNPsvh"
   },
   "source": [
    "## Menghitung jumlah elemen List"
   ]
  },
  {
   "cell_type": "markdown",
   "metadata": {
    "id": "U6CA-4q8cQfC"
   },
   "source": [
    "cara mengetahui jumlah elemen dalam list"
   ]
  },
  {
   "cell_type": "code",
   "execution_count": 6,
   "metadata": {
    "colab": {
     "base_uri": "https://localhost:8080/"
    },
    "id": "1ohkG60acYxq",
    "outputId": "2c845d51-3878-4cff-cdbd-a5ae55dc632f"
   },
   "outputs": [
    {
     "name": "stdout",
     "output_type": "stream",
     "text": [
      "4\n"
     ]
    }
   ],
   "source": [
    "matkul = [\"fuzzy\", \"pdp\", \"metnum\" , \"graf\"]\n",
    "print(len(matkul))"
   ]
  },
  {
   "cell_type": "markdown",
   "metadata": {
    "id": "SXjjDvqYwPWD"
   },
   "source": [
    "# **Berbagai Method untuk List pada Python**"
   ]
  },
  {
   "cell_type": "markdown",
   "metadata": {
    "id": "GW_xJLbPOaPm"
   },
   "source": [
    "## Menambah elemen List"
   ]
  },
  {
   "cell_type": "markdown",
   "metadata": {
    "id": "O85URks5cmkj"
   },
   "source": [
    "cara menambahkan elemen dalam list\n",
    "ada 2 cara untuk menambahkan elemen pada list, yaitu;\n",
    "1. menggunakan metode append()\n",
    "2. menggunakan metode insert()\n"
   ]
  },
  {
   "cell_type": "code",
   "execution_count": 7,
   "metadata": {
    "colab": {
     "base_uri": "https://localhost:8080/"
    },
    "id": "nVJEDf96dOfe",
    "outputId": "83b083c7-052e-46e1-eb16-c1508e4db002"
   },
   "outputs": [
    {
     "name": "stdout",
     "output_type": "stream",
     "text": [
      "['fuzzy', 'pdp', 'metnum', 'graf', 'anreg']\n"
     ]
    }
   ],
   "source": [
    "#metode append : menambahkan elemen pada baris terakhir\n",
    "matkul = [\"fuzzy\", \"pdp\", \"metnum\" , \"graf\"]\n",
    "matkul.append(\"anreg\")\n",
    "print(matkul)"
   ]
  },
  {
   "cell_type": "code",
   "execution_count": 8,
   "metadata": {
    "colab": {
     "base_uri": "https://localhost:8080/"
    },
    "id": "6XrL3bqddhRt",
    "outputId": "dfe45b0d-556a-4c7c-b9e2-4121f319c4f8"
   },
   "outputs": [
    {
     "name": "stdout",
     "output_type": "stream",
     "text": [
      "['fuzzy', 'anriil', 'pdp', 'metnum', 'graf']\n"
     ]
    }
   ],
   "source": [
    "#metode insert : memasukkan elemen pada baris tertentu\n",
    "matkul = [\"fuzzy\", \"pdp\", \"metnum\" , \"graf\"]\n",
    "matkul.insert(1, 'anriil')\n",
    "print(matkul)"
   ]
  },
  {
   "cell_type": "markdown",
   "metadata": {
    "id": "whHs8DMhOeyP"
   },
   "source": [
    "## Menghapus elemen List"
   ]
  },
  {
   "cell_type": "markdown",
   "metadata": {
    "id": "QK9-9GhIeE4u"
   },
   "source": [
    "menghapus elemen dalam list\n",
    "ada beberapa cara untuk menghapus elemen\n",
    "1. menggunakan keyword del\n",
    "2. menggunakan metode remove()\n",
    "3. menggunakan metode pop()\n",
    "4. menggunakan metode clear()"
   ]
  },
  {
   "cell_type": "code",
   "execution_count": 9,
   "metadata": {
    "colab": {
     "base_uri": "https://localhost:8080/"
    },
    "id": "b9dTvzNrewLA",
    "outputId": "0786c407-7649-4281-f8aa-22aa3c97de68"
   },
   "outputs": [
    {
     "name": "stdout",
     "output_type": "stream",
     "text": [
      "['fuzzy', 'pdp', 'metnum']\n"
     ]
    }
   ],
   "source": [
    "#menggunakan keyword del,(bukan hanya bisa menghapus elemen tapi bisa juga untuk mnghapus list)\n",
    "matkul = [\"fuzzy\", \"pdp\", \"metnum\" , \"graf\"]\n",
    "del matkul[3]\n",
    "print(matkul)\n",
    "matkul1 = [\"fuzzy\", \"pdp\", \"metnum\" , \"graf\"]\n",
    "del matkul"
   ]
  },
  {
   "cell_type": "code",
   "execution_count": 10,
   "metadata": {
    "colab": {
     "base_uri": "https://localhost:8080/"
    },
    "id": "GNVgWlzAe06_",
    "outputId": "189cf4b0-9899-4ec1-b4be-3d19cc8c3b71"
   },
   "outputs": [
    {
     "name": "stdout",
     "output_type": "stream",
     "text": [
      "['pdp', 'metnum', 'graf']\n"
     ]
    }
   ],
   "source": [
    "#menggunakan metode remove(): menggunakan remove() harus menyebutkan nama elemennya langsung\n",
    "matkul = [\"fuzzy\", \"pdp\", \"metnum\" , \"graf\"]\n",
    "matkul.remove(\"fuzzy\")\n",
    "print(matkul)\n"
   ]
  },
  {
   "cell_type": "code",
   "execution_count": 11,
   "metadata": {
    "colab": {
     "base_uri": "https://localhost:8080/"
    },
    "id": "R3V2IapIf76i",
    "outputId": "7b882328-0e2c-4043-da7a-0ceb30d19964"
   },
   "outputs": [
    {
     "name": "stdout",
     "output_type": "stream",
     "text": [
      "['fuzzy', 'pdp']\n"
     ]
    }
   ],
   "source": [
    "#menggunakan metode pop(a): menghapus elemen baris ke-a atau baris terakhir\n",
    "matkul = [\"fuzzy\", \"pdp\", \"metnum\" , \"graf\"]\n",
    "matkul.pop(2)\n",
    "matkul.pop()\n",
    "print(matkul) "
   ]
  },
  {
   "cell_type": "code",
   "execution_count": 12,
   "metadata": {
    "colab": {
     "base_uri": "https://localhost:8080/"
    },
    "id": "IYrhbP_wga_Q",
    "outputId": "07a99b59-8f26-43e2-d69e-db45d499f1f4"
   },
   "outputs": [
    {
     "name": "stdout",
     "output_type": "stream",
     "text": [
      "[]\n"
     ]
    }
   ],
   "source": [
    "#menggunakan metode clear(): menghapus seluruh elemen pada list\n",
    "matkul = [\"fuzzy\", \"pdp\", \"metnum\" , \"graf\"]\n",
    "matkul.clear()\n",
    "print(matkul)"
   ]
  },
  {
   "cell_type": "markdown",
   "metadata": {
    "id": "Yhka3x5-Oht-"
   },
   "source": [
    "## Mengkopi List"
   ]
  },
  {
   "cell_type": "markdown",
   "metadata": {
    "id": "uIB3DvQYgrJ-"
   },
   "source": [
    "copy list\n",
    "ada 2 cara untuk copy list\n",
    "1. menggunakan metode copy()\n",
    "2. menggunakan metode list()"
   ]
  },
  {
   "cell_type": "code",
   "execution_count": 13,
   "metadata": {
    "colab": {
     "base_uri": "https://localhost:8080/"
    },
    "id": "oaTesw-zhFOt",
    "outputId": "b9bee49d-1c12-47f0-a2e1-7bd7d5f13d63"
   },
   "outputs": [
    {
     "name": "stdout",
     "output_type": "stream",
     "text": [
      "['fuzzy', 'pdp', 'metnum', 'graf']\n"
     ]
    }
   ],
   "source": [
    "#menggunakan metode copy()\n",
    "matkul = [\"fuzzy\", \"pdp\", \"metnum\" , \"graf\"]\n",
    "matlah = matkul.copy()\n",
    "print(matlah)"
   ]
  },
  {
   "cell_type": "code",
   "execution_count": 14,
   "metadata": {
    "colab": {
     "base_uri": "https://localhost:8080/"
    },
    "id": "TFz6YhanhWS9",
    "outputId": "460fee32-7339-4cbe-daf8-1fd87111c640"
   },
   "outputs": [
    {
     "name": "stdout",
     "output_type": "stream",
     "text": [
      "['fuzzy', 'pdp', 'metnum', 'graf']\n"
     ]
    }
   ],
   "source": [
    "#menggunakan metode list()\n",
    "matkul = [\"fuzzy\", \"pdp\", \"metnum\" , \"graf\"]\n",
    "matlah = list(matkul)\n",
    "print(matlah)"
   ]
  },
  {
   "cell_type": "markdown",
   "metadata": {
    "id": "OGdeaa29OpbH"
   },
   "source": [
    "## Menggabung List"
   ]
  },
  {
   "cell_type": "markdown",
   "metadata": {
    "id": "yPxC06ewhjnC"
   },
   "source": [
    "cara menggabungkan 2 list\n",
    "1. menggunakan tanda +\n",
    "2. menggunakan metode append()\n",
    "3. menggunakan metode extend()"
   ]
  },
  {
   "cell_type": "code",
   "execution_count": 15,
   "metadata": {
    "colab": {
     "base_uri": "https://localhost:8080/"
    },
    "id": "JGECFOskh8n8",
    "outputId": "70013e23-b7a9-480d-d67e-b0f6cabe70dd"
   },
   "outputs": [
    {
     "name": "stdout",
     "output_type": "stream",
     "text": [
      "['fuzzy', 'pdp', 'metnum', 'graf', 1, 2, 3, 4]\n"
     ]
    }
   ],
   "source": [
    "#menggnakan tanda +\n",
    "matkul = [\"fuzzy\", \"pdp\", \"metnum\" , \"graf\"]\n",
    "angka = [1, 2, 3, 4]\n",
    "\n",
    "hasil = matkul + angka\n",
    "print(hasil)"
   ]
  },
  {
   "cell_type": "code",
   "execution_count": 16,
   "metadata": {
    "colab": {
     "base_uri": "https://localhost:8080/"
    },
    "id": "EhwfXTCuiL1U",
    "outputId": "63b0d9d0-b8a3-4054-9603-1b0ec1b7a5d7"
   },
   "outputs": [
    {
     "name": "stdout",
     "output_type": "stream",
     "text": [
      "['fuzzy', 'pdp', 'metnum', 'graf', 1, 2, 3, 4]\n"
     ]
    }
   ],
   "source": [
    "#menggunakan metode append\n",
    "matkul = [\"fuzzy\", \"pdp\", \"metnum\" , \"graf\"]\n",
    "angka = [1, 2, 3, 4]\n",
    "\n",
    "for x in angka:\n",
    "  matkul.append(x)\n",
    "\n",
    "print(matkul)"
   ]
  },
  {
   "cell_type": "code",
   "execution_count": 17,
   "metadata": {
    "colab": {
     "base_uri": "https://localhost:8080/"
    },
    "id": "JW9IRHnYii9F",
    "outputId": "83f6701f-dbb6-4e00-c703-851567669736"
   },
   "outputs": [
    {
     "name": "stdout",
     "output_type": "stream",
     "text": [
      "['fuzzy', 'pdp', 'metnum', 'graf', 1, 2, 3, 4]\n"
     ]
    }
   ],
   "source": [
    "#menggunakan metode extend\n",
    "matkul = [\"fuzzy\", \"pdp\", \"metnum\" , \"graf\"]\n",
    "angka = [1, 2, 3, 4]\n",
    "\n",
    "matkul.extend(angka)\n",
    "print(matkul)"
   ]
  },
  {
   "cell_type": "markdown",
   "metadata": {
    "id": "K-85e962443K"
   },
   "source": [
    "# **String pada Python**\n"
   ]
  },
  {
   "cell_type": "markdown",
   "metadata": {
    "id": "3U8ND-Ft5ZII"
   },
   "source": [
    "## *String Literals*\n",
    "####String literal dalam python diapit oleh tanda kutip tunggal, atau tanda kutip ganda\n",
    "####'Buku' = \"Buku\" dalam python ini sama saja\n",
    "####Anda dapat menampilkan literal string dengan fungsi print ():\n"
   ]
  },
  {
   "cell_type": "code",
   "execution_count": 18,
   "metadata": {
    "colab": {
     "base_uri": "https://localhost:8080/"
    },
    "id": "StGvS-Ey1bLX",
    "outputId": "7258184b-796b-47c1-cff9-083fa07eb605"
   },
   "outputs": [
    {
     "name": "stdout",
     "output_type": "stream",
     "text": [
      "Hello\n",
      "Hello\n"
     ]
    }
   ],
   "source": [
    "#Contoh :\n",
    "print(\"Hello\")\n",
    "print('Hello')"
   ]
  },
  {
   "cell_type": "markdown",
   "metadata": {
    "id": "-aatCBuO95wP"
   },
   "source": [
    "Expected output:\n",
    "```\n",
    "Hello\n",
    "Hello\n",
    "```"
   ]
  },
  {
   "cell_type": "code",
   "execution_count": 19,
   "metadata": {
    "colab": {
     "base_uri": "https://localhost:8080/"
    },
    "id": "E7xhLyI_D5dE",
    "outputId": "41fc91d8-55b9-493f-bd04-cce86374bfd5"
   },
   "outputs": [
    {
     "name": "stdout",
     "output_type": "stream",
     "text": [
      "saya bangga kuliah di UAD\n",
      "UAD almamaterku\n"
     ]
    }
   ],
   "source": [
    "#Mulai Program mu....^_^\n",
    "print(\"saya bangga kuliah di UAD\")\n",
    "print('UAD almamaterku')"
   ]
  },
  {
   "cell_type": "markdown",
   "metadata": {
    "id": "uW2Ii3iL9Fbb"
   },
   "source": [
    "## *Assign String to a Variable*\n",
    "#### Menetapkan string ke variabel dilakukan dengan nama variabel diikuti dengan tanda sama dengan dan stringnya:"
   ]
  },
  {
   "cell_type": "code",
   "execution_count": 20,
   "metadata": {
    "colab": {
     "base_uri": "https://localhost:8080/"
    },
    "id": "HPvNIIOv93Uj",
    "outputId": "2a40e336-4be9-48b7-8929-8da620ab9e76"
   },
   "outputs": [
    {
     "name": "stdout",
     "output_type": "stream",
     "text": [
      "Hello\n"
     ]
    }
   ],
   "source": [
    "#Contoh\n",
    "a = \"Hello\"\n",
    "print(a)"
   ]
  },
  {
   "cell_type": "markdown",
   "metadata": {
    "id": "Rgf7Zdk2-cma"
   },
   "source": [
    "Expected output:\n",
    "```\n",
    "Hello\n",
    "```\n",
    "Penjelasan :\n",
    "a adalah variabel\n",
    "kemudian diikuti tanda samadengan =\n",
    "kemudian masukkan nilai berupa string yaitu \"Hello\""
   ]
  },
  {
   "cell_type": "code",
   "execution_count": 20,
   "metadata": {
    "id": "XnW_XFWCEU_Y"
   },
   "outputs": [
    {
     "name": "stdout",
     "output_type": "stream",
     "text": [
      "Selamat Datang\n"
     ]
    }
   ],
   "source": [
    "#Mulai Program mu....^_^\n",
    "b = \"Selamat Datang\"\n",
    "print(b)"
   ]
  },
  {
   "cell_type": "markdown",
   "metadata": {
    "id": "eYAdwdwp_o_M"
   },
   "source": [
    "## *Multiline Strings*\n",
    "#### Kita dapat menetapkan string multiline ke variabel dengan menggunakan tiga tanda kutip:"
   ]
  },
  {
   "cell_type": "code",
   "execution_count": 21,
   "metadata": {
    "colab": {
     "base_uri": "https://localhost:8080/"
    },
    "id": "KqKBqkEFAv-e",
    "outputId": "450ee287-a057-453e-abe0-cc96ecaef5a1"
   },
   "outputs": [
    {
     "name": "stdout",
     "output_type": "stream",
     "text": [
      "PSDS adalah kelompok studi Data Science\n",
      "yang dibentuk oleh mahasiswa\n",
      "program studi Matematika.\n"
     ]
    }
   ],
   "source": [
    "#Contoh 1\n",
    "a = '''PSDS adalah kelompok studi Data Science\n",
    "yang dibentuk oleh mahasiswa\n",
    "program studi Matematika.'''\n",
    "print(a)"
   ]
  },
  {
   "cell_type": "markdown",
   "metadata": {
    "id": "HoKPF7srDzRN"
   },
   "source": [
    "Expected output:\n",
    "```\n",
    "PSDS adalah kelompok studi Data Science\n",
    "yang dibentuk oleh mahasiswa\n",
    "program studi Matematika.\n",
    "\n",
    "```"
   ]
  },
  {
   "cell_type": "code",
   "execution_count": 24,
   "metadata": {
    "id": "VowpERdPEsQJ"
   },
   "outputs": [
    {
     "name": "stdout",
     "output_type": "stream",
     "text": [
      "PSDS adalah kelompok studi yang dicetus oleh HIMATIKA UAD\n",
      "dengan fokus pembelajaran pada data sains dengan pemrograman python dan R\n"
     ]
    }
   ],
   "source": [
    "#Mulai Program mu....^_^\n",
    "b = '''PSDS adalah kelompok studi yang dicetus oleh HIMATIKA UAD\n",
    "dengan fokus pembelajaran pada data sains dengan pemrograman python dan R'''\n",
    "print(b)\n"
   ]
  },
  {
   "cell_type": "markdown",
   "metadata": {
    "id": "lTmDSoYcB0Gb"
   },
   "source": [
    "Kita bisa juga menggunakan double tanda kutip, misal : ```\"\"\"stringnya\"\"\"```"
   ]
  },
  {
   "cell_type": "code",
   "execution_count": 25,
   "metadata": {
    "colab": {
     "base_uri": "https://localhost:8080/"
    },
    "id": "SJRPjO1PBNZF",
    "outputId": "b24f3623-5a21-4e08-84ad-20141a541536"
   },
   "outputs": [
    {
     "name": "stdout",
     "output_type": "stream",
     "text": [
      "PSDS adalah kelompok studi Data Science\n",
      "yang dibentuk oleh mahasiswa\n",
      "program studi Matematika.\n"
     ]
    }
   ],
   "source": [
    "#Contoh 2\n",
    "a = \"\"\"PSDS adalah kelompok studi Data Science\n",
    "yang dibentuk oleh mahasiswa\n",
    "program studi Matematika.\"\"\"\n",
    "print(a)\n",
    "#Hasilnya, jeda baris disisipkan pada posisi yang sama seperti pada kode."
   ]
  },
  {
   "cell_type": "markdown",
   "metadata": {
    "id": "Sy-1uZquD-02"
   },
   "source": [
    "Expected output:\n",
    "```\n",
    "PSDS adalah kelompok studi Data Science\n",
    "yang dibentuk oleh mahasiswa\n",
    "program studi Matematika.\n",
    "```\n",
    "\n",
    "Penjelasan : jeda baris disisipkan pada posisi yang sama seperti pada kode."
   ]
  },
  {
   "cell_type": "code",
   "execution_count": 27,
   "metadata": {
    "id": "-vth3zQNFEZ3"
   },
   "outputs": [
    {
     "name": "stdout",
     "output_type": "stream",
     "text": [
      "PSDS merupakan gagasan yang baik\n",
      "mengingat pentingnya data sains dalam industri\n"
     ]
    }
   ],
   "source": [
    "#Mulai Program mu....^_^\n",
    "bb = \"\"\"PSDS merupakan gagasan yang baik\n",
    "mengingat pentingnya data sains dalam industri\"\"\"\n",
    "print(bb)\n",
    "\n"
   ]
  },
  {
   "cell_type": "markdown",
   "metadata": {
    "id": "XQLfbQFQEVmu"
   },
   "source": [
    "## *Strings are Arrays*\n",
    "#### Seperti banyak bahasa pemrograman populer lainnya, string dalam Python adalah array byte yang mewakili karakter unicode.\n",
    "#### Namun, Python tidak memiliki tipe data karakter, satu karakter hanyalah string dengan panjang 1\n",
    "#### Tanda kurung siku dapat digunakan untuk mengakses elemen string."
   ]
  },
  {
   "cell_type": "code",
   "execution_count": 26,
   "metadata": {
    "colab": {
     "base_uri": "https://localhost:8080/"
    },
    "id": "VqY0-8FUCPBf",
    "outputId": "f6acd2d8-3b95-451a-9405-8c4aa972ed30"
   },
   "outputs": [
    {
     "name": "stdout",
     "output_type": "stream",
     "text": [
      "e\n"
     ]
    }
   ],
   "source": [
    "#Contoh\n",
    "a = \"Hello, World!\"\n",
    "print(a[1])"
   ]
  },
  {
   "cell_type": "markdown",
   "metadata": {
    "id": "nPN1G_m9GhQZ"
   },
   "source": [
    "Expected output:\n",
    "```\n",
    "e\n",
    "```\n",
    "Penjelasan : Dapatkan karakter di posisi 1 (ingat bahwa karakter pertama memiliki posisi 0):\n",
    "\n"
   ]
  },
  {
   "cell_type": "code",
   "execution_count": 28,
   "metadata": {
    "id": "8t036hewYZzW"
   },
   "outputs": [
    {
     "name": "stdout",
     "output_type": "stream",
     "text": [
      "i\n"
     ]
    }
   ],
   "source": [
    "#Mulai Program mu....^_^\n",
    "a = \"String aray\"\n",
    "print(a[3])\n"
   ]
  },
  {
   "cell_type": "markdown",
   "metadata": {
    "id": "vagnEyfWHADQ"
   },
   "source": [
    "## *Slicing*\n",
    "#### Anda dapat mengembalikan berbagai karakter dengan menggunakan sintaksis slice.\n",
    "#### Tentukan indeks awal dan indeks akhir, dipisahkan oleh titik dua, untuk mengembalikan bagian dari string."
   ]
  },
  {
   "cell_type": "code",
   "execution_count": 29,
   "metadata": {
    "colab": {
     "base_uri": "https://localhost:8080/"
    },
    "id": "kvukrxjxIN1s",
    "outputId": "9fab28ec-7de0-4d33-e63b-3297d9a7b384"
   },
   "outputs": [
    {
     "name": "stdout",
     "output_type": "stream",
     "text": [
      "llo\n"
     ]
    }
   ],
   "source": [
    "#Contoh :\n",
    "b = \"Hello, World!\"\n",
    "print(b[2:5])\n",
    "#Dapatkan karakter dari posisi 2 ke posisi 5 (tidak termasuk):"
   ]
  },
  {
   "cell_type": "markdown",
   "metadata": {
    "id": "tvz7WZHdKQgH"
   },
   "source": [
    "Expected output:\n",
    "```\n",
    "llo\n",
    "```"
   ]
  },
  {
   "cell_type": "code",
   "execution_count": 30,
   "metadata": {
    "id": "M4geTGseYgmQ"
   },
   "outputs": [
    {
     "name": "stdout",
     "output_type": "stream",
     "text": [
      "ici\n"
     ]
    }
   ],
   "source": [
    "#Mulai Program mu....^_^\n",
    "c = \"Slicing array\"\n",
    "print(c[2:5])\n",
    "\n"
   ]
  },
  {
   "cell_type": "markdown",
   "metadata": {
    "id": "2LQPMzQAKilR"
   },
   "source": [
    "## *Negative Indexing*\n",
    "Gunakan indeks negatif untuk memulai potongan dari ujung string:"
   ]
  },
  {
   "cell_type": "code",
   "execution_count": 31,
   "metadata": {
    "colab": {
     "base_uri": "https://localhost:8080/"
    },
    "id": "n2yD3tJ4LG93",
    "outputId": "95976fc5-4f9e-4ce3-8405-479f5920503f"
   },
   "outputs": [
    {
     "name": "stdout",
     "output_type": "stream",
     "text": [
      "orl\n"
     ]
    }
   ],
   "source": [
    "#Contoh\n",
    "b = \"Hello, World!\"\n",
    "print(b[-5:-2])\n",
    "#Dapatkan karakter dari posisi 5 ke posisi 1 (tidak termasuk), mulai hitungan dari akhir string:"
   ]
  },
  {
   "cell_type": "markdown",
   "metadata": {
    "id": "nlzaUPw2Mkwr"
   },
   "source": [
    "Expected output:\n",
    "```\n",
    "orl\n",
    "```"
   ]
  },
  {
   "cell_type": "code",
   "execution_count": 33,
   "metadata": {
    "id": "InprXyehZUUk"
   },
   "outputs": [
    {
     "name": "stdout",
     "output_type": "stream",
     "text": [
      "in\n"
     ]
    }
   ],
   "source": [
    "#Mulai Program mu....^_^\n",
    "n = \"Negative Indexing\"\n",
    "print(n[-3:-1])\n"
   ]
  },
  {
   "cell_type": "code",
   "execution_count": 34,
   "metadata": {
    "colab": {
     "base_uri": "https://localhost:8080/"
    },
    "id": "A7Z1cnl2ekma",
    "outputId": "42d1012d-229a-485e-ae00-cb485fcb718c"
   },
   "outputs": [
    {
     "name": "stdout",
     "output_type": "stream",
     "text": [
      "13\n"
     ]
    }
   ],
   "source": [
    "#Contoh\n",
    "a = \"Hello, World!\"\n",
    "print(len(a))\n",
    "#Fungsi len () mengembalikan panjang string:"
   ]
  },
  {
   "cell_type": "markdown",
   "metadata": {
    "id": "I7o2xNSJpQxD"
   },
   "source": [
    "Expected Output :\n",
    "```\n",
    "13\n",
    "```"
   ]
  },
  {
   "cell_type": "code",
   "execution_count": 35,
   "metadata": {
    "id": "-axqRlaqZY8x"
   },
   "outputs": [
    {
     "name": "stdout",
     "output_type": "stream",
     "text": [
      "99\n"
     ]
    }
   ],
   "source": [
    "#Mulai Program mu....^_^\n",
    "a = \"ini adalah cara untuk mengetahui panjang dari suatu string dengan menggunakan perinta len di python\"\n",
    "print(len(a))\n"
   ]
  },
  {
   "cell_type": "markdown",
   "metadata": {
    "id": "kIXBHAk3f_KI"
   },
   "source": [
    "## *Check String*\n",
    "Untuk memeriksa apakah frase atau karakter tertentu ada dalam sebuah string, kita dapat menggunakan kata kunci in atau not in"
   ]
  },
  {
   "cell_type": "code",
   "execution_count": 36,
   "metadata": {
    "colab": {
     "base_uri": "https://localhost:8080/"
    },
    "id": "aHqLK3vHfzQS",
    "outputId": "9086378c-64cc-4a97-ae19-2b7e6c67a7b1"
   },
   "outputs": [
    {
     "name": "stdout",
     "output_type": "stream",
     "text": [
      "True\n"
     ]
    }
   ],
   "source": [
    "#Contoh 1\n",
    "#Periksa apakah frase \"ain\" ada dalam teks berikut:\n",
    "txt = \"Hujan di Spanyol umumnya tetap di dataran\"\n",
    "x = \"jan\" in txt\n",
    "print(x)"
   ]
  },
  {
   "cell_type": "markdown",
   "metadata": {
    "id": "EvjnqufLpcwD"
   },
   "source": [
    "Expected Output :\n",
    "```\n",
    "True\n",
    "```"
   ]
  },
  {
   "cell_type": "code",
   "execution_count": 37,
   "metadata": {
    "id": "oXIdUm4lZk0b"
   },
   "outputs": [
    {
     "name": "stdout",
     "output_type": "stream",
     "text": [
      "True\n"
     ]
    }
   ],
   "source": [
    "#Mulai Program mu....^_^\n",
    "a = \"adalah program untuk mengetahui apakah ada sebuah kata yang terdapat dalam kalimat\"\n",
    "x = \"tahu\" in a\n",
    "print(x)\n",
    "\n"
   ]
  },
  {
   "cell_type": "code",
   "execution_count": 38,
   "metadata": {
    "colab": {
     "base_uri": "https://localhost:8080/"
    },
    "id": "fgyz-8kHgiC8",
    "outputId": "77686e1f-a308-47e7-9419-7aa5b33f2dab"
   },
   "outputs": [
    {
     "name": "stdout",
     "output_type": "stream",
     "text": [
      "False\n"
     ]
    }
   ],
   "source": [
    "#Contoh\n",
    "#Periksa apakah frase \"ain\" TIDAK ada dalam teks berikut:\n",
    "txt = \"Hujan di Spanyol umumnya tetap di dataran\"\n",
    "x = \"jan\" not in txt\n",
    "print(x) "
   ]
  },
  {
   "cell_type": "markdown",
   "metadata": {
    "id": "gEzY_18PplCV"
   },
   "source": [
    "Expected Output :\n",
    "```\n",
    "False\n",
    "```"
   ]
  },
  {
   "cell_type": "code",
   "execution_count": 40,
   "metadata": {
    "id": "3xsC0rt2ZrPa"
   },
   "outputs": [
    {
     "name": "stdout",
     "output_type": "stream",
     "text": [
      "False\n"
     ]
    }
   ],
   "source": [
    "#Mulai Program mu....^_^\n",
    "a = \"dsfsdkfjsdfkjsdflsdf dsflksdfjsdlkjf sdflksdjflsdkjf sdfklsjdfsdk  sdfkjsdflksdjf\"\n",
    "x = \"UAD\" in a\n",
    "print(x)\n",
    "\n"
   ]
  },
  {
   "cell_type": "markdown",
   "metadata": {
    "id": "whJkJ80wg4ri"
   },
   "source": [
    "## *String Concatenation*\n",
    "Untuk menggabungkan, atau menggabungkan, dua string Anda dapat menggunakan operator +."
   ]
  },
  {
   "cell_type": "code",
   "execution_count": 41,
   "metadata": {
    "colab": {
     "base_uri": "https://localhost:8080/"
    },
    "id": "KcheDEPZhEUn",
    "outputId": "53d9a386-6864-4ce1-8494-2ae482e60a1b"
   },
   "outputs": [
    {
     "name": "stdout",
     "output_type": "stream",
     "text": [
      "HelloWorld\n"
     ]
    }
   ],
   "source": [
    "#Contoh\n",
    "#Gabungkan variabel a dengan variabel b menjadi variabel c\n",
    "a = \"Hello\"\n",
    "b = \"World\"\n",
    "c = a + b\n",
    "print(c)"
   ]
  },
  {
   "cell_type": "markdown",
   "metadata": {
    "id": "yzB_x6uvsgIx"
   },
   "source": [
    "Output :\n",
    "```\n",
    "HelloWorld\n",
    "```"
   ]
  },
  {
   "cell_type": "code",
   "execution_count": 43,
   "metadata": {
    "id": "G0GMGTBgZ-f6"
   },
   "outputs": [
    {
     "name": "stdout",
     "output_type": "stream",
     "text": [
      "program untuk menggabungkan \n"
     ]
    }
   ],
   "source": [
    "#Mulai Program mu....^_^\n",
    "a = \"program \"\n",
    "b = \"untuk \"\n",
    "c = \"menggabungkan \"\n",
    "\n",
    "print(a+b+c)\n",
    "\n",
    "\n"
   ]
  },
  {
   "cell_type": "code",
   "execution_count": 40,
   "metadata": {
    "colab": {
     "base_uri": "https://localhost:8080/"
    },
    "id": "_WYRHkRthc-y",
    "outputId": "75577c13-0a42-4a69-e3bc-825e2e14e21f"
   },
   "outputs": [
    {
     "name": "stdout",
     "output_type": "stream",
     "text": [
      "Hello World\n"
     ]
    }
   ],
   "source": [
    "#Contoh\n",
    "#Untuk menambahkan spasi di antara keduanya, tambahkan \" \":\n",
    "a = \"Hello\"\n",
    "b = \"World\"\n",
    "c = a + \" \" + b\n",
    "print(c)"
   ]
  },
  {
   "cell_type": "markdown",
   "metadata": {
    "id": "UgWS9_39stHi"
   },
   "source": [
    "Output :\n",
    "```\n",
    "Hello World\n",
    "```"
   ]
  },
  {
   "cell_type": "code",
   "execution_count": 44,
   "metadata": {
    "id": "tgMo3eBoaE5r"
   },
   "outputs": [
    {
     "name": "stdout",
     "output_type": "stream",
     "text": [
      "dengan menggabungkan \n"
     ]
    }
   ],
   "source": [
    "#Mulai Program mu....\n",
    "a = \"dengan\"\n",
    "b = \"spasi\"\n",
    "print(a+\" \"+c)\n",
    "\n"
   ]
  },
  {
   "cell_type": "markdown",
   "metadata": {
    "id": "4Fhyimgde2Mn"
   },
   "source": [
    "## **String Format**\n",
    "#### Seperti yang kita pelajari di bab Variabel Python, kita tidak bisa menggabungkan string dan angka seperti ini:"
   ]
  },
  {
   "cell_type": "code",
   "execution_count": 45,
   "metadata": {
    "colab": {
     "base_uri": "https://localhost:8080/"
    },
    "id": "7L6XBNLejHsT",
    "outputId": "2199a578-5a7f-4d90-9c77-fa8afb64d772"
   },
   "outputs": [
    {
     "name": "stdout",
     "output_type": "stream",
     "text": [
      "Nama saya Mujhid, saya 20\n"
     ]
    }
   ],
   "source": [
    "#Contoh\n",
    "umur = \"20\"\n",
    "txt = \"Nama saya Mujhid, saya \" + umur\n",
    "print(txt)"
   ]
  },
  {
   "cell_type": "markdown",
   "metadata": {
    "id": "IyDYFm-5s4w8"
   },
   "source": [
    "Output :\n",
    "```\n",
    "Nama saya Mujhid, saya 20\n",
    "```"
   ]
  },
  {
   "cell_type": "markdown",
   "metadata": {
    "id": "xMzqxUejkZrt"
   },
   "source": [
    "Tapi kita bisa menggabungkan string dan angka dengan menggunakan metode format ()!\n",
    "\n",
    "Metode format () mengambil argumen yang diteruskan, memformatnya, dan menempatkannya dalam string di mana placeholder {} berada:"
   ]
  },
  {
   "cell_type": "markdown",
   "metadata": {
    "id": "-7gLLgzqe2Mx"
   },
   "source": [
    "# *Berbagai Method untuk String pada Python*\n",
    "\n",
    "Python memiliki seperangkat metode bawaan yang dapat Anda gunakan pada string."
   ]
  },
  {
   "cell_type": "markdown",
   "metadata": {
    "id": "P8NnekdTGMh9"
   },
   "source": [
    "### Strip()\n",
    "\n",
    "Method strip() berfungsi untuk menghapus spasi apa pun dari awal atau akhir"
   ]
  },
  {
   "cell_type": "code",
   "execution_count": 46,
   "metadata": {
    "colab": {
     "base_uri": "https://localhost:8080/"
    },
    "id": "adhHBCCIfCRV",
    "outputId": "be4158e1-c9ea-4ca3-af38-669508461bc7"
   },
   "outputs": [
    {
     "name": "stdout",
     "output_type": "stream",
     "text": [
      "Hello, World!\n"
     ]
    }
   ],
   "source": [
    "#Contoh\n",
    "a = \" Hello, World! \"\n",
    "print(a.strip()) # returns \"Hello, World!\""
   ]
  },
  {
   "cell_type": "markdown",
   "metadata": {
    "id": "Qeo6pBGotbxk"
   },
   "source": [
    "Output :\n",
    "```\n",
    "Hello, World!\n",
    "```"
   ]
  },
  {
   "cell_type": "code",
   "execution_count": 47,
   "metadata": {
    "id": "bnhTYGQEAytD"
   },
   "outputs": [
    {
     "name": "stdout",
     "output_type": "stream",
     "text": [
      "program strip\n"
     ]
    }
   ],
   "source": [
    "#Mulai Program Mu....\n",
    "a = \" program strip \"\n",
    "print(a.strip())\n"
   ]
  },
  {
   "cell_type": "markdown",
   "metadata": {
    "id": "y-DOox5dndFL"
   },
   "source": [
    "### Lower()\n",
    "##### Metode lower () mengembalikan string dalam huruf kecil:"
   ]
  },
  {
   "cell_type": "code",
   "execution_count": 48,
   "metadata": {
    "colab": {
     "base_uri": "https://localhost:8080/"
    },
    "id": "D_ST04cMewvV",
    "outputId": "55e3744e-6307-4763-832f-3a094337b431"
   },
   "outputs": [
    {
     "name": "stdout",
     "output_type": "stream",
     "text": [
      "hello, world!\n"
     ]
    }
   ],
   "source": [
    "#Contoh\n",
    "a = \"HELLO, World!\"\n",
    "print(a.lower())"
   ]
  },
  {
   "cell_type": "markdown",
   "metadata": {
    "id": "4rtfR-MQtv1z"
   },
   "source": [
    "Output :\n",
    "```\n",
    "hello, world!\n",
    "```"
   ]
  },
  {
   "cell_type": "markdown",
   "metadata": {
    "id": "goEziMRaop2n"
   },
   "source": [
    "### Upper()\n",
    "##### Metode upper() mengembalikan string dalam huruf besar:"
   ]
  },
  {
   "cell_type": "code",
   "execution_count": 49,
   "metadata": {
    "colab": {
     "base_uri": "https://localhost:8080/"
    },
    "id": "tORVzIurfiyq",
    "outputId": "791a726a-3de2-413f-f489-7984ba6e3548"
   },
   "outputs": [
    {
     "name": "stdout",
     "output_type": "stream",
     "text": [
      "HELLO, WORLD!\n"
     ]
    }
   ],
   "source": [
    "#Contoh\n",
    "a = \"Hello, World!\"\n",
    "print(a.upper())"
   ]
  },
  {
   "cell_type": "markdown",
   "metadata": {
    "id": "1d7SQJ3zt6M-"
   },
   "source": [
    "Output :\n",
    "```\n",
    "HELLO, WORLD!\n",
    "```"
   ]
  },
  {
   "cell_type": "markdown",
   "metadata": {
    "id": "p_8BudcBuNRK"
   },
   "source": [
    "### Replace()\n",
    "##### Metode replace () menggantikan string dengan string lain:"
   ]
  },
  {
   "cell_type": "code",
   "execution_count": 50,
   "metadata": {
    "colab": {
     "base_uri": "https://localhost:8080/"
    },
    "id": "KRCtERX-fsRL",
    "outputId": "25ba4862-89c1-4db1-a36d-8229e185d50e"
   },
   "outputs": [
    {
     "name": "stdout",
     "output_type": "stream",
     "text": [
      "Jello, World!\n"
     ]
    }
   ],
   "source": [
    "#Contoh\n",
    "a = \"Hello, World!\"\n",
    "print(a.replace(\"H\", \"J\"))"
   ]
  },
  {
   "cell_type": "markdown",
   "metadata": {
    "id": "HoBM7TssuDC0"
   },
   "source": [
    "Output :\n",
    "```\n",
    "Jello, World!\n",
    "```"
   ]
  },
  {
   "cell_type": "markdown",
   "metadata": {
    "id": "HENcWNGouzZQ"
   },
   "source": [
    "### Split()\n",
    "##### Metode split () membagi string menjadi beberapa substring jika menemukan contoh pemisah:"
   ]
  },
  {
   "cell_type": "code",
   "execution_count": 51,
   "metadata": {
    "colab": {
     "base_uri": "https://localhost:8080/"
    },
    "id": "lZOPF8zNfzUz",
    "outputId": "3d5cb1a1-f7df-47e9-f20a-b8adbd244ac4"
   },
   "outputs": [
    {
     "name": "stdout",
     "output_type": "stream",
     "text": [
      "['Hello', ' World!']\n"
     ]
    }
   ],
   "source": [
    "#Contoh\n",
    "a = \"Hello, World!\"\n",
    "print(a.split(\",\")) # returns ['Hello', ' World!']"
   ]
  },
  {
   "cell_type": "markdown",
   "metadata": {
    "id": "7nCtdk1Du-m8"
   },
   "source": [
    "Output :\n",
    "```\n",
    "['Hello', ' World!']\n",
    "```"
   ]
  },
  {
   "cell_type": "markdown",
   "metadata": {
    "id": "TaxVOjwbvc6k"
   },
   "source": [
    "### Capitalize()\n",
    "##### Metode capitalize () menggantikan karakter pertama menjadi huruf apital"
   ]
  },
  {
   "cell_type": "code",
   "execution_count": 52,
   "metadata": {
    "colab": {
     "base_uri": "https://localhost:8080/"
    },
    "id": "AKCjwL5pu6uA",
    "outputId": "47e59737-d699-4919-8f85-5806242ba29a"
   },
   "outputs": [
    {
     "name": "stdout",
     "output_type": "stream",
     "text": [
      "Hello, world\n"
     ]
    }
   ],
   "source": [
    "#Contoh\n",
    "a = \"hello, world\"\n",
    "print(a.capitalize())"
   ]
  },
  {
   "cell_type": "markdown",
   "metadata": {
    "id": "2aTzRqgzwcd-"
   },
   "source": [
    "Output :\n",
    "```\n",
    "Hello, world\n",
    "```"
   ]
  },
  {
   "cell_type": "markdown",
   "metadata": {
    "id": "lFk8jkgTw7Qc"
   },
   "source": [
    "### Casefold()\n",
    "##### Metode casefold () Mengubah string menjadi huruf kecil"
   ]
  },
  {
   "cell_type": "code",
   "execution_count": 53,
   "metadata": {
    "colab": {
     "base_uri": "https://localhost:8080/"
    },
    "id": "rqUVI0_QwQ9M",
    "outputId": "c1e88684-63c3-4dfe-bbec-34fad0c107b8"
   },
   "outputs": [
    {
     "name": "stdout",
     "output_type": "stream",
     "text": [
      "hello, world\n"
     ]
    }
   ],
   "source": [
    "#Contoh\n",
    "a = \"Hello, World\"\n",
    "print(a.casefold())"
   ]
  },
  {
   "cell_type": "markdown",
   "metadata": {
    "id": "uOJqg_Hhx7jM"
   },
   "source": [
    "### Count()\n",
    "##### Metode count () Mengembalikan frekuensi nilai yang ditentukan muncul dalam string"
   ]
  },
  {
   "cell_type": "code",
   "execution_count": 54,
   "metadata": {
    "colab": {
     "base_uri": "https://localhost:8080/"
    },
    "id": "X0BxqrG6zC3j",
    "outputId": "e210ca57-02fa-4888-a6c5-9495ff3f2ce0"
   },
   "outputs": [
    {
     "name": "stdout",
     "output_type": "stream",
     "text": [
      "Jumlah : 2\n"
     ]
    }
   ],
   "source": [
    "# definiskan string\n",
    "string = \"Python is awesome, isn't it?\"\n",
    "substring = \"is\"\n",
    "\n",
    "count = string.count(substring)\n",
    "\n",
    "# print count\n",
    "print(\"Jumlah :\", count)"
   ]
  },
  {
   "cell_type": "markdown",
   "metadata": {
    "id": "c-107cVfCt-f"
   },
   "source": [
    "Output :\n",
    "```\n",
    "Jumlah : 2\n",
    "```"
   ]
  },
  {
   "cell_type": "markdown",
   "metadata": {
    "id": "TK1BWNfmNmg9"
   },
   "source": [
    "### Encode()\n",
    "##### Metode encode () mengembalikan string yang berada di tengah"
   ]
  },
  {
   "cell_type": "code",
   "execution_count": 55,
   "metadata": {
    "colab": {
     "base_uri": "https://localhost:8080/"
    },
    "id": "Z3vdoZsq76n7",
    "outputId": "0eb582a8-7e15-40c9-d544-722c923e7767"
   },
   "outputs": [
    {
     "name": "stdout",
     "output_type": "stream",
     "text": [
      "b'My name is Mujhid'\n"
     ]
    }
   ],
   "source": [
    "a = \"My name is Mujhid\"\n",
    "\n",
    "x = a.encode()\n",
    "\n",
    "print(x)"
   ]
  },
  {
   "cell_type": "markdown",
   "metadata": {
    "id": "qPgAcs3q03rJ"
   },
   "source": [
    "### Swapcase()\n",
    "##### Metode swapcase () untuk menukar kasus, huruf kecil menjadi huruf besar dan sebaliknya"
   ]
  },
  {
   "cell_type": "code",
   "execution_count": 56,
   "metadata": {
    "colab": {
     "base_uri": "https://localhost:8080/"
    },
    "id": "1aogmteyOBqW",
    "outputId": "a691aedf-701f-49f8-b5a0-bc283d98d8f3"
   },
   "outputs": [
    {
     "name": "stdout",
     "output_type": "stream",
     "text": [
      "mY nAME IS mUJHID\n"
     ]
    }
   ],
   "source": [
    "a = \"My Name is Mujhid\"\n",
    "\n",
    "x = a.swapcase()\n",
    "\n",
    "print(x)"
   ]
  },
  {
   "cell_type": "markdown",
   "metadata": {
    "id": "NygjfmV-GP04"
   },
   "source": [
    "Output :\n",
    "```\n",
    "mY nAME IS mUJHID\n",
    "```"
   ]
  },
  {
   "cell_type": "markdown",
   "metadata": {
    "id": "1bnoscP55UBZ"
   },
   "source": [
    "\n",
    "\n",
    "---\n",
    "\n",
    "\n",
    "# **Dictionary Pada Python**\n",
    "\n",
    "\n",
    "---\n",
    "\n",
    "\n",
    "Berbeda dengan List dan Tuple, didalam Dictionary Python setiap urutanya berisi key dan value yang bersifat tidak berurutan. \n",
    "1. Setiap key dipisahkan dari value-nya oleh titik dua (:)\n",
    "2. item dipisahkan oleh koma, dan semuanya tertutup dalam kurung kurawal. \n",
    "3. Dictionary kosong tanpa barang ditulis hanya dengan dua kurung kurawal, seperti ini: {}."
   ]
  },
  {
   "cell_type": "markdown",
   "metadata": {
    "id": "Qqi7EOUv8QlF"
   },
   "source": [
    "**Contoh 1:**\n"
   ]
  },
  {
   "cell_type": "code",
   "execution_count": 57,
   "metadata": {
    "colab": {
     "base_uri": "https://localhost:8080/"
    },
    "id": "9frE3t3c-VL5",
    "outputId": "8c36d665-ffa2-445f-e30e-6ec7cc821b93"
   },
   "outputs": [
    {
     "name": "stdout",
     "output_type": "stream",
     "text": [
      "<class 'dict'>\n"
     ]
    }
   ],
   "source": [
    "dict= {'Universitas' : 'UAD' , 'Prodi' : 'Matematika' , 'Tahun' : 2018 , 'NIM' : 180015065}\n",
    "print(type(dict))"
   ]
  },
  {
   "cell_type": "markdown",
   "metadata": {
    "id": "cpN9v_hTCQ6w"
   },
   "source": [
    "Yuk coba buat dictionary kamu :)"
   ]
  },
  {
   "cell_type": "code",
   "execution_count": 59,
   "metadata": {
    "id": "XGAZx3QiCWtQ"
   },
   "outputs": [
    {
     "name": "stdout",
     "output_type": "stream",
     "text": [
      "<class 'dict'>\n"
     ]
    }
   ],
   "source": [
    "#Membuat directory\n",
    "kamus = {'Nama':'Bobi','Asal':'Kampus','Kampus':'UAD'}\n",
    "print(type(kamus))\n"
   ]
  },
  {
   "cell_type": "markdown",
   "metadata": {
    "id": "wiTUsNTSAq-f"
   },
   "source": [
    "## Mengakses Nilai pada Dictionary\n",
    "Untuk mengakses elemen Dictionary, dapat menggunakan kurung siku yang berisi key ['key'] untuk mendapatkan value yang diinginkan."
   ]
  },
  {
   "cell_type": "code",
   "execution_count": 60,
   "metadata": {
    "colab": {
     "base_uri": "https://localhost:8080/"
    },
    "id": "B7K8CmX4BxV6",
    "outputId": "e2d2fdf5-78a6-4823-a066-27121e9627d7"
   },
   "outputs": [
    {
     "name": "stdout",
     "output_type": "stream",
     "text": [
      "<class 'dict'>\n",
      "dict['Universitas'] =  UAD\n",
      "dict['Prodi'] = Matematika\n",
      "dict['Tahun'] = 2018\n",
      "dict[1800015065] =  NIM\n"
     ]
    }
   ],
   "source": [
    "dict= {'Universitas' : 'UAD' , 'Prodi' : 'Matematika' , 'Tahun' : 2018 , 1800015065 : 'NIM'}\n",
    "print(type(dict))\n",
    "print(\"dict['Universitas'] = \", dict['Universitas'])\n",
    "print(\"dict['Prodi'] =\", dict['Prodi'])\n",
    "print(\"dict['Tahun'] =\", dict['Tahun'])\n",
    "print(\"dict[1800015065] = \", dict[1800015065])"
   ]
  },
  {
   "cell_type": "markdown",
   "metadata": {
    "id": "0Ko2w5YXCeUH"
   },
   "source": [
    "Nah sekarang coba akses nilai di dictionary kamu, go go go"
   ]
  },
  {
   "cell_type": "code",
   "execution_count": 66,
   "metadata": {
    "id": "zMOqnpFtCtBc"
   },
   "outputs": [
    {
     "name": "stdout",
     "output_type": "stream",
     "text": [
      "satu 2 tiga\n"
     ]
    }
   ],
   "source": [
    "#Mengakses nilai directory\n",
    "kamus = {1:'satu','dua':2,3:'tiga'}\n",
    "print(kamus[1],kamus['dua'],kamus[3])\n"
   ]
  },
  {
   "cell_type": "markdown",
   "metadata": {
    "id": "UzGJBTYWF9Wz"
   },
   "source": [
    "## Mengubah Nilai pada Dictionary\n",
    "Anda dapat memperbarui Dictionary dengan menambahkan entri baru atau pasangan nilai kunci, memodifikasi entri yang ada, atau menghapus entri yang ada"
   ]
  },
  {
   "cell_type": "code",
   "execution_count": 64,
   "metadata": {
    "colab": {
     "base_uri": "https://localhost:8080/"
    },
    "id": "ZkMuE6xJGGzq",
    "outputId": "40e656c1-928c-42c8-a22d-3ffd160a8e68"
   },
   "outputs": [
    {
     "name": "stdout",
     "output_type": "stream",
     "text": [
      "dict[1800015065] = Bukan NIM\n",
      "dict['Universitas'] = UGM\n"
     ]
    }
   ],
   "source": [
    "dict= {'Universitas' : 'UAD' , 'Prodi' : 'Matematika' , 'Tahun' : 2018 , 1800015065 : 'NIM'}\n",
    "dict[1800015065] = 'Bukan NIM' #Mengubah entri atau value yang sudah ada\n",
    "dict['Universitas'] = 'UGM' #Menambah entri atau value\n",
    "print(\"dict[1800015065] =\", dict[1800015065]);\n",
    "print(\"dict['Universitas'] =\", dict['Universitas']);"
   ]
  },
  {
   "cell_type": "code",
   "execution_count": 65,
   "metadata": {
    "colab": {
     "base_uri": "https://localhost:8080/"
    },
    "id": "vX3rYRdjL6GF",
    "outputId": "706810e1-55f4-4194-eb49-216110e43755"
   },
   "outputs": [
    {
     "name": "stdout",
     "output_type": "stream",
     "text": [
      "{'brand': 'Toyota', 'model': 'Kijang', 'year': 2004}\n"
     ]
    }
   ],
   "source": [
    "thisdict = {\n",
    "    \"brand\" : \"Toyota\",\n",
    "    \"model\" : \"Kijang\",\n",
    "    \"year\" : 2004\n",
    "}\n",
    "print(thisdict)"
   ]
  },
  {
   "cell_type": "markdown",
   "metadata": {
    "id": "47jIA7JvC2sL"
   },
   "source": [
    "Sekarang sudah tau kan kalo nilai dictionary bisa diubah dan kalian sudah paham kan gimana ngubahnya, yuk dicoba dulu biar makin paham :)"
   ]
  },
  {
   "cell_type": "code",
   "execution_count": 67,
   "metadata": {
    "id": "1gGuQpm1DPSN"
   },
   "outputs": [
    {
     "name": "stdout",
     "output_type": "stream",
     "text": [
      "{1: 'Perdana Mentri', 'dua': 2343242, 3: 'tiga belas'}\n"
     ]
    }
   ],
   "source": [
    "#Mengubah nilai directory\n",
    "kamus = {1:'satu','dua':2,3:'tiga'}\n",
    "kamus[1]=\"Perdana Mentri\"\n",
    "kamus['dua']=2343242\n",
    "kamus[3]= \"tiga belas\"\n",
    "print(kamus)\n"
   ]
  },
  {
   "cell_type": "markdown",
   "metadata": {
    "id": "hBFir8xVLg5o"
   },
   "source": [
    "## Loop Melalui Dictionary\n",
    "\n",
    "Pada bagian Pengulangan melalui Dictionary, kita dapat melakukan Loop(Pengulangan) melalui Dictionary dengan menggunakan **for** loop.\n",
    "\n",
    "Saat melakukan pengulangan melalui Dictionary, nilai yang dikembalikan adalah kunci dari Dictionary, tetapi terdapat metode untuk mengembalikan nilai\n",
    "\n",
    "Sebagai contoh :\n",
    "Print semua nama kunci dalam Dictionary satu per satu"
   ]
  },
  {
   "cell_type": "code",
   "execution_count": 68,
   "metadata": {
    "colab": {
     "base_uri": "https://localhost:8080/"
    },
    "id": "EsK_xCfaMBwW",
    "outputId": "04df7287-22e5-4121-9d75-b81f62a28cf4"
   },
   "outputs": [
    {
     "name": "stdout",
     "output_type": "stream",
     "text": [
      "brand\n",
      "model\n",
      "year\n"
     ]
    }
   ],
   "source": [
    "for x in thisdict:\n",
    "  print(x)"
   ]
  },
  {
   "cell_type": "markdown",
   "metadata": {
    "id": "vBPM3O_CMHmd"
   },
   "source": [
    "**Contoh 2:**\n",
    "\n",
    "Print semua *nilai* dalam Dictionary satu per satu"
   ]
  },
  {
   "cell_type": "code",
   "execution_count": 69,
   "metadata": {
    "colab": {
     "base_uri": "https://localhost:8080/"
    },
    "id": "zC1X4W8_MMDf",
    "outputId": "3e8d41a4-b1d9-4ebe-dab9-052b8620d612"
   },
   "outputs": [
    {
     "name": "stdout",
     "output_type": "stream",
     "text": [
      "Toyota\n",
      "Kijang\n",
      "2004\n"
     ]
    }
   ],
   "source": [
    "for x in thisdict:\n",
    "  print(thisdict[x])"
   ]
  },
  {
   "cell_type": "markdown",
   "metadata": {
    "id": "CTX8JbrdMQHG"
   },
   "source": [
    "**Contoh 3:**\n",
    "\n",
    "Kita juga dapat menggunakan **values()** yang merupakan metode untuk mengembalikan nilai Dictionary"
   ]
  },
  {
   "cell_type": "code",
   "execution_count": 70,
   "metadata": {
    "colab": {
     "base_uri": "https://localhost:8080/"
    },
    "id": "P4sF4NJwMVKi",
    "outputId": "e1c3221b-cd21-4e2e-b6fa-924ededae1f3"
   },
   "outputs": [
    {
     "name": "stdout",
     "output_type": "stream",
     "text": [
      "Toyota\n",
      "Kijang\n",
      "2004\n"
     ]
    }
   ],
   "source": [
    "for x in thisdict.values():\n",
    "  print(x)"
   ]
  },
  {
   "cell_type": "markdown",
   "metadata": {
    "id": "Vw6KRxXUMYdk"
   },
   "source": [
    "**Contoh 4:**\n",
    "\n",
    "Ulangi kedua kunci dan nilai, dengan menggunakan metode **items()**:"
   ]
  },
  {
   "cell_type": "code",
   "execution_count": 71,
   "metadata": {
    "colab": {
     "base_uri": "https://localhost:8080/"
    },
    "id": "R0LHvTdCMciA",
    "outputId": "6f922b5b-ce70-4242-dd28-f5dcbb2e69ca"
   },
   "outputs": [
    {
     "name": "stdout",
     "output_type": "stream",
     "text": [
      "brand Toyota\n",
      "model Kijang\n",
      "year 2004\n"
     ]
    }
   ],
   "source": [
    "for x, y in thisdict.items():\n",
    "  print(x, y)"
   ]
  },
  {
   "cell_type": "markdown",
   "metadata": {
    "id": "PLi6zJNRDjpd"
   },
   "source": [
    "Di atas sudah diberikan contoh loop melalui directory menggunakan berbagai cara, sekarang kalian coba biar makin paham"
   ]
  },
  {
   "cell_type": "code",
   "execution_count": 79,
   "metadata": {
    "id": "k2wcRN_8EAJX"
   },
   "outputs": [
    {
     "name": "stdout",
     "output_type": "stream",
     "text": [
      "satu one\n",
      "dua two\n",
      "tiga Three\n",
      "empat Four\n"
     ]
    }
   ],
   "source": [
    "#Loop Melalui Directory\n",
    "kamus ={\n",
    "    \"satu\":\"one\",\n",
    "    \"dua\":\"two\",\n",
    "    \"tiga\":'Three',\n",
    "    'empat':'Four'\n",
    "}\n",
    "for i,j in kamus.items():\n",
    "    print(i,j)"
   ]
  },
  {
   "cell_type": "markdown",
   "metadata": {
    "id": "xT7pJUjFMi_B"
   },
   "source": [
    "## Mengecek keanggotaan suatu key\n",
    "Untuk menentukan apakah kunci tertentu ada dalam Dictionary gunakan **in** sebagai kunci"
   ]
  },
  {
   "cell_type": "markdown",
   "metadata": {
    "id": "naFLmYYzMtOp"
   },
   "source": [
    "**Contoh 6:**\n",
    "\n",
    "Cek jika \"model\" terdapat pada Dictionary"
   ]
  },
  {
   "cell_type": "code",
   "execution_count": 76,
   "metadata": {
    "colab": {
     "base_uri": "https://localhost:8080/"
    },
    "id": "8flzqPCTMvAm",
    "outputId": "b50ff53b-01c3-46fb-f775-fff4757e5591"
   },
   "outputs": [
    {
     "name": "stdout",
     "output_type": "stream",
     "text": [
      "Yes, 'model' adalah salah satu dari kunci dalam distict dictionary\n"
     ]
    }
   ],
   "source": [
    "thisdict = {\n",
    "    \"brand\" : \"Toyota\",\n",
    "    \"model\" : \"Kijang\",\n",
    "    \"tahun\" : 2004\n",
    "}\n",
    "if \"model\" in thisdict :\n",
    "  print(\"Yes, 'model' adalah salah satu dari kunci dalam distict dictionary\")"
   ]
  },
  {
   "cell_type": "markdown",
   "metadata": {
    "id": "IUOIUwOYEQuR"
   },
   "source": [
    "Sekarang kalian coba deh cek keanggotaan suatu key yang ada di dictionary kalian, siapa tahu bukan merupakan anggota kan, bisa jadi penyusup xixixi"
   ]
  },
  {
   "cell_type": "code",
   "execution_count": 94,
   "metadata": {
    "id": "K85KcpLaEsBH"
   },
   "outputs": [
    {
     "name": "stdout",
     "output_type": "stream",
     "text": [
      "'one', berada di dalam kamus\n"
     ]
    }
   ],
   "source": [
    "#Mengecek keanggotaan suatu key\n",
    "kamus ={\n",
    "    \"satu\":\"one\",\n",
    "    \"dua\":\"two\",\n",
    "    \"tiga\":'Three',\n",
    "    'empat':'Four'\n",
    "}\n",
    "if 'satu' in kamus:\n",
    "    print(\"'one', berada di dalam kamus\")\n"
   ]
  },
  {
   "cell_type": "markdown",
   "metadata": {
    "id": "NeXUQXjZOBOv"
   },
   "source": [
    "## Menambah Item"
   ]
  },
  {
   "cell_type": "markdown",
   "metadata": {
    "id": "-DeukrFUOOJ2"
   },
   "source": [
    "Untuk menambahkan item, kita dapat menggunakan kunci index baru dengan langsung memberikan nilainya. Untuk contohnya, bisa dilihat kode di bawah ini yaa :)"
   ]
  },
  {
   "cell_type": "code",
   "execution_count": 81,
   "metadata": {
    "colab": {
     "base_uri": "https://localhost:8080/"
    },
    "id": "pCnst7TaOPOE",
    "outputId": "07d03012-e3cb-47bb-a2af-6ab6e7bf85f6"
   },
   "outputs": [
    {
     "name": "stdout",
     "output_type": "stream",
     "text": [
      "{'Name': 'Zara', 'Age': 7, 'Class': 'First', 'School': 'DPS School'}\n"
     ]
    }
   ],
   "source": [
    "thisdict = {'Name': 'Zara', 'Age': 7, 'Class': 'First'}\n",
    "\n",
    "thisdict['School'] = \"DPS School\" # Menambah entri baru pada thisdict\n",
    "\n",
    "print (thisdict)"
   ]
  },
  {
   "cell_type": "markdown",
   "metadata": {
    "id": "5mHe4zJJOaFJ"
   },
   "source": [
    "Selain menggunakan format di atas, untuk menambahkan item kita juga bisa menggunakan method update()."
   ]
  },
  {
   "cell_type": "code",
   "execution_count": 69,
   "metadata": {
    "colab": {
     "base_uri": "https://localhost:8080/"
    },
    "id": "P3ODwqpeObGi",
    "outputId": "56b5b888-38c8-4dfc-9ea9-e2161a55aa70"
   },
   "outputs": [
    {
     "name": "stdout",
     "output_type": "stream",
     "text": [
      "{'Name': 'Zara', 'Age': 7, 'Class': 'First', 'School': 'DPS School'}\n"
     ]
    }
   ],
   "source": [
    "thisdict = {'Name': 'Zara', 'Age': 7, 'Class': 'First'}\n",
    "\n",
    "thisdict.update({\"School\": \"DPS School\"}) #Menambah item baru pada thisdict\n",
    "\n",
    "print(thisdict)"
   ]
  },
  {
   "cell_type": "markdown",
   "metadata": {
    "id": "vES-HR3hE0-f"
   },
   "source": [
    "Nah iya nih dalam menambah item baru pada dictionary bisa dilakukan dengan 2 cara, menurut kalian mudah yang mana, dicoba dulu biar tahu rasanya hohoho"
   ]
  },
  {
   "cell_type": "code",
   "execution_count": 95,
   "metadata": {
    "id": "ORxfmwHgFCwT"
   },
   "outputs": [
    {
     "name": "stdout",
     "output_type": "stream",
     "text": [
      "{'satu': 'one', 'dua': 'two', 'tiga': 'Three', 'empat': 'Four', 'lima': 'five', 'enam': 'six'}\n"
     ]
    }
   ],
   "source": [
    "#Menambah item baru pada dictionary\n",
    "perbarui = {'lima':'five','enam':'six'}\n",
    "kamus.update(perbarui)\n",
    "print(kamus)\n"
   ]
  },
  {
   "cell_type": "markdown",
   "metadata": {
    "id": "UztNPpTNOjkS"
   },
   "source": [
    "## Menghapus Item"
   ]
  },
  {
   "cell_type": "markdown",
   "metadata": {
    "id": "ZrrLJx6SOlQF"
   },
   "source": [
    "Untuk menghapus item yang ada pada Dictionary, kita bisa menggunakan perintah del, method pop(), method popitem(), dan method clear().\n",
    "\n",
    "- Fungsi del adalah fungsi untuk menghapus suatu variabel dari memori.\n",
    "\n",
    "- Method pop() adalah method yang berfungsi untuk mengeluarkan item yang diinginkan dari dictionary.\n",
    "\n",
    "- Method popitem() adalah method yang digunakan untuk menghapus item yang terakhir.\n",
    "\n",
    "- Method clear() adalah method yang digunakan untuk mengosongkan dictionary."
   ]
  },
  {
   "cell_type": "code",
   "execution_count": 83,
   "metadata": {
    "colab": {
     "base_uri": "https://localhost:8080/"
    },
    "id": "Tv2i5H42OsIk",
    "outputId": "287b12f4-854c-4592-faee-d1e012b29908"
   },
   "outputs": [
    {
     "name": "stdout",
     "output_type": "stream",
     "text": [
      "{'Age': 7, 'Class': 'First'}\n"
     ]
    }
   ],
   "source": [
    "#Menghapus item menggunakan del\n",
    "thisdict = {'Name': 'Zara', 'Age': 7, 'Class': 'First'}\n",
    "del thisdict[\"Name\"]\n",
    "\n",
    "print(thisdict)"
   ]
  },
  {
   "cell_type": "code",
   "execution_count": 84,
   "metadata": {
    "colab": {
     "base_uri": "https://localhost:8080/"
    },
    "id": "5tHFrmvsOzKw",
    "outputId": "0bcedee1-3da2-49c6-f409-e953e550b76a"
   },
   "outputs": [
    {
     "name": "stdout",
     "output_type": "stream",
     "text": [
      "{'Name': 'Zara', 'Class': 'First'}\n"
     ]
    }
   ],
   "source": [
    "#Menghapus item menggunakan method pop()\n",
    "thisdict = {'Name': 'Zara', 'Age': 7, 'Class': 'First'}\n",
    "thisdict.pop(\"Age\")\n",
    "\n",
    "print(thisdict)"
   ]
  },
  {
   "cell_type": "code",
   "execution_count": 85,
   "metadata": {
    "colab": {
     "base_uri": "https://localhost:8080/"
    },
    "id": "2wR2qAe1O0_p",
    "outputId": "3ad1ab2c-68af-4780-dd84-b189baf2b40f"
   },
   "outputs": [
    {
     "name": "stdout",
     "output_type": "stream",
     "text": [
      "{'Name': 'Zara', 'Age': 7}\n"
     ]
    }
   ],
   "source": [
    "#Menghapus item menggunakan method popitem()\n",
    "thisdict = {'Name': 'Zara', 'Age': 7, 'Class': 'First'}\n",
    "thisdict.popitem()\n",
    "\n",
    "print(thisdict)"
   ]
  },
  {
   "cell_type": "code",
   "execution_count": 86,
   "metadata": {
    "colab": {
     "base_uri": "https://localhost:8080/"
    },
    "id": "obesr1UqO_u5",
    "outputId": "793cedce-f4eb-4133-b663-f5fc07c34052"
   },
   "outputs": [
    {
     "name": "stdout",
     "output_type": "stream",
     "text": [
      "{}\n"
     ]
    }
   ],
   "source": [
    "#Menghapus item menggunakan method clear()\n",
    "thisdict = {'Name': 'Zara', 'Age': 7, 'Class': 'First'}\n",
    "thisdict.clear()\n",
    "\n",
    "print(thisdict)"
   ]
  },
  {
   "cell_type": "code",
   "execution_count": 91,
   "metadata": {},
   "outputs": [
    {
     "data": {
      "text/plain": [
       "{'dua': 'two', 'tiga': 'Three', 'empat': 'Four', 'lima': 'five', 'enam': 'six'}"
      ]
     },
     "execution_count": 91,
     "metadata": {},
     "output_type": "execute_result"
    }
   ],
   "source": [
    "kamus"
   ]
  },
  {
   "cell_type": "markdown",
   "metadata": {
    "id": "VfK6RhraFOoQ"
   },
   "source": [
    "Dan kalo menghapus dictionary ternyata ada 4 cara lohh, pada contoh di atas sudah jelas kan, supaya tambah jelas silahkan dicoba yaa ;)"
   ]
  },
  {
   "cell_type": "code",
   "execution_count": 96,
   "metadata": {
    "id": "1-BGdhElFert"
   },
   "outputs": [
    {
     "name": "stdout",
     "output_type": "stream",
     "text": [
      "{'satu': 'one', 'tiga': 'Three', 'empat': 'Four', 'lima': 'five', 'enam': 'six'}\n",
      "{'satu': 'one', 'empat': 'Four', 'lima': 'five', 'enam': 'six'}\n",
      "{'satu': 'one', 'empat': 'Four', 'lima': 'five'}\n",
      "{}\n"
     ]
    }
   ],
   "source": [
    "#Menghapus item menggunakan del\n",
    "del kamus[\"dua\"]\n",
    "print(kamus)\n",
    "#Menghapus item menggunapak method pop()\n",
    "kamus.pop('tiga')\n",
    "print(kamus)\n",
    "#Menghapus item menggunakan method popitem()\n",
    "kamus.popitem()\n",
    "print(kamus)\n",
    "#Menghapus item menggunakan method clear()\n",
    "kamus.clear()\n",
    "print(kamus)"
   ]
  },
  {
   "cell_type": "markdown",
   "metadata": {
    "id": "yw-oOwJyPIFA"
   },
   "source": [
    "## Menyalin Dictionary"
   ]
  },
  {
   "cell_type": "markdown",
   "metadata": {
    "id": "ijhQx7qmPgcF"
   },
   "source": [
    "Untuk menyalin dictionary, kita dapat menggunakan method copy()."
   ]
  },
  {
   "cell_type": "code",
   "execution_count": 97,
   "metadata": {
    "colab": {
     "base_uri": "https://localhost:8080/"
    },
    "id": "Q-CWNgUuPPqg",
    "outputId": "fd7e991d-aca5-41df-f524-26dedb0faf11"
   },
   "outputs": [
    {
     "name": "stdout",
     "output_type": "stream",
     "text": [
      "{'Name': 'Zara', 'Age': 7, 'Class': 'First'}\n"
     ]
    }
   ],
   "source": [
    "#Menggunakan method copy()\n",
    "thisdict = {'Name': 'Zara', 'Age': 7, 'Class': 'First'}\n",
    "mydict=thisdict.copy()\n",
    "\n",
    "print(mydict)"
   ]
  },
  {
   "cell_type": "markdown",
   "metadata": {
    "id": "VhzUKxt8Ghg_"
   },
   "source": [
    "Yuk coba salin dictionary yang telah kalian buat tadi, biar bisa diotak atik lagi xixixi"
   ]
  },
  {
   "cell_type": "code",
   "execution_count": 98,
   "metadata": {
    "id": "cYpu8BnOGfnZ"
   },
   "outputs": [
    {
     "name": "stdout",
     "output_type": "stream",
     "text": [
      "{}\n"
     ]
    }
   ],
   "source": [
    "#Menyalin dictionary\n",
    "kamusbaru = kamus\n",
    "print(kamusbaru)\n"
   ]
  },
  {
   "cell_type": "markdown",
   "metadata": {
    "id": "HapRCuUdJcal"
   },
   "source": [
    "## Nested Dictionary\n",
    "Nested Dictionary atau kamus bertingkat merupakan suatu kamus yang mana kamus tersebut bisa diisi dengan satu atau lebih kamus di dalamnya.\n",
    "\n",
    "Kita akan membuat sebuah contoh Kamus yang memuat 3 kamus di dalamnya"
   ]
  },
  {
   "cell_type": "code",
   "execution_count": 123,
   "metadata": {
    "colab": {
     "base_uri": "https://localhost:8080/"
    },
    "id": "a7HX1DVFJiQN",
    "outputId": "9d3c899a-6483-46df-aefc-a811550ebf3d"
   },
   "outputs": [
    {
     "name": "stdout",
     "output_type": "stream",
     "text": [
      "{'anak1': {'nama': 'dera', 'Tanggal Lahir': 19012000}, 'anak2': {'nama': 'Joko', 'Tanggal Lahir': 17091997}, 'anak3': {'nama': 'Asih', 'Tanggal Lahir': 20022000}}\n"
     ]
    }
   ],
   "source": [
    "Keluarga_afif={\n",
    "    \"anak1\":{\n",
    "        \"nama\":\"dera\",\n",
    "        \"Tanggal Lahir\": 19012000\n",
    "    },\n",
    "    \"anak2\":{\n",
    "        \"nama\":\"Joko\",\n",
    "        \"Tanggal Lahir\": 17091997 \n",
    "    },\n",
    "    \"anak3\":{\n",
    "        \"nama\":\"Asih\",\n",
    "        \"Tanggal Lahir\": 20022000\n",
    "    }\n",
    "}\n",
    "\n",
    "print(Keluarga_afif)"
   ]
  },
  {
   "cell_type": "markdown",
   "metadata": {
    "id": "R43exLqhJpmv"
   },
   "source": [
    "Kita akan membuat suatu Kamus yang akan berisi 3 kamus lainnya"
   ]
  },
  {
   "cell_type": "code",
   "execution_count": 100,
   "metadata": {
    "colab": {
     "base_uri": "https://localhost:8080/"
    },
    "id": "SV-t3qX-Jz7P",
    "outputId": "027097bb-4829-4fa0-b7a5-55a208b1aeb4"
   },
   "outputs": [
    {
     "name": "stdout",
     "output_type": "stream",
     "text": [
      "{'anak1': {'nama': 'Rikma', 'Tanggal Lahir': 19012000}, 'anak2': {'nama': 'Joko', 'Tanggal Lahir': 17091997}, 'anak3': {'nama': 'Asih', 'Tanggal Lahir': 20022000}}\n"
     ]
    }
   ],
   "source": [
    "anak1={\"nama\":\"Rikma\",\"Tanggal Lahir\":19012000}\n",
    "anak2={\"nama\":\"Joko\",\"Tanggal Lahir\":17091997}\n",
    "anak3={\"nama\":\"Asih\",\"Tanggal Lahir\":20022000}\n",
    "\n",
    "Keluarga_afif={\"anak1\":anak1,\"anak2\":anak2,\"anak3\":anak3}\n",
    "print(Keluarga_afif)"
   ]
  },
  {
   "cell_type": "markdown",
   "metadata": {
    "id": "rn1_pOZ3J5Z2"
   },
   "source": [
    "Atau kita juga dapat menggunakan fungsi dict() untuk membuat kamus yang baru"
   ]
  },
  {
   "cell_type": "code",
   "execution_count": 110,
   "metadata": {
    "colab": {
     "base_uri": "https://localhost:8080/",
     "height": 198
    },
    "id": "_Iuj4TapKq3j",
    "outputId": "af873568-98fd-4fa7-839a-a5b6a7f53e06"
   },
   "outputs": [
    {
     "ename": "TypeError",
     "evalue": "'dict' object is not callable",
     "output_type": "error",
     "traceback": [
      "\u001b[0;31m---------------------------------------------------------------------------\u001b[0m",
      "\u001b[0;31mTypeError\u001b[0m                                 Traceback (most recent call last)",
      "\u001b[0;32m<ipython-input-110-43f89556dadf>\u001b[0m in \u001b[0;36m<module>\u001b[0;34m\u001b[0m\n\u001b[0;32m----> 1\u001b[0;31m \u001b[0mIndoapril\u001b[0m\u001b[0;34m=\u001b[0m\u001b[0mdict\u001b[0m\u001b[0;34m(\u001b[0m\u001b[0mbarang\u001b[0m\u001b[0;34m=\u001b[0m\u001b[0;34m'Minuman'\u001b[0m\u001b[0;34m,\u001b[0m\u001b[0mmerek\u001b[0m\u001b[0;34m=\u001b[0m\u001b[0;34m'BearBrand'\u001b[0m\u001b[0;34m,\u001b[0m\u001b[0mharga\u001b[0m\u001b[0;34m=\u001b[0m\u001b[0;36m7000\u001b[0m\u001b[0;34m)\u001b[0m\u001b[0;34m\u001b[0m\u001b[0;34m\u001b[0m\u001b[0m\n\u001b[0m\u001b[1;32m      2\u001b[0m \u001b[0;31m#Perlu di perhatikan  bahwa dalam fungsi dict() kita tidak lagi memakai kolon (:) tetapi menggunakan sama dengan (=)\u001b[0m\u001b[0;34m\u001b[0m\u001b[0;34m\u001b[0m\u001b[0;34m\u001b[0m\u001b[0m\n\u001b[1;32m      3\u001b[0m \u001b[0mprint\u001b[0m\u001b[0;34m(\u001b[0m\u001b[0mIndoapril\u001b[0m\u001b[0;34m)\u001b[0m\u001b[0;34m\u001b[0m\u001b[0;34m\u001b[0m\u001b[0m\n",
      "\u001b[0;31mTypeError\u001b[0m: 'dict' object is not callable"
     ]
    }
   ],
   "source": [
    "Indoapril=dict(barang='Minuman',merek='BearBrand',harga=7000)\n",
    "#Perlu di perhatikan  bahwa dalam fungsi dict() kita tidak lagi memakai kolon (:) tetapi menggunakan sama dengan (=)\n",
    "print(Indoapril)"
   ]
  },
  {
   "cell_type": "markdown",
   "metadata": {
    "id": "hqro2QmYG3pA"
   },
   "source": [
    "Paham belum nih tentang materi nested dictionary, coba sekarang kalian buat dan pahami, nanti pasti paham kalo udah nyoba ;)"
   ]
  },
  {
   "cell_type": "code",
   "execution_count": 124,
   "metadata": {
    "id": "D9WDIcsaPysc"
   },
   "outputs": [
    {
     "name": "stdout",
     "output_type": "stream",
     "text": [
      "{'anak1': {'nama': 'dera', 'Tanggal Lahir': 19012000}, 'anak2': {'nama': 'Joko', 'Tanggal Lahir': 17091997}, 'anak3': {'nama': 'Asih', 'Tanggal Lahir': 20022000}}\n"
     ]
    }
   ],
   "source": [
    "#Nested dictionary\n",
    "Keluarga_afif={\n",
    "    \"anak1\":{\n",
    "        \"nama\":\"dera\",\n",
    "        \"Tanggal Lahir\": 19012000\n",
    "    },\n",
    "    \"anak2\":{\n",
    "        \"nama\":\"Joko\",\n",
    "        \"Tanggal Lahir\": 17091997 \n",
    "    },\n",
    "    \"anak3\":{\n",
    "        \"nama\":\"Asih\",\n",
    "        \"Tanggal Lahir\": 20022000\n",
    "    }\n",
    "}\n",
    "\n",
    "print(Keluarga_afif)\n"
   ]
  },
  {
   "cell_type": "markdown",
   "metadata": {
    "id": "PP7KHpy-ymYq"
   },
   "source": [
    "\n",
    "\n",
    "---\n",
    "\n",
    "\n",
    "#**Berbagai Method untuk Dictionary**\n",
    "\n",
    "---\n",
    "\n"
   ]
  },
  {
   "cell_type": "markdown",
   "metadata": {
    "id": "hzM9fg8rILk9"
   },
   "source": [
    "- clear() : Menghapus semua elemen dictionary\n",
    "- copy() : Mengembalikan salinan dictionary\n",
    "- fromkeys() : Buat Dictionary baru dengan kunci dari seq dan nilai yang disetel ke nilai.\n",
    "- get() : Mengembalikan nilai dari kunci yang ditentukan\n",
    "- items() : Mengembalikan daftar dari pasangan tuple dictionary (key, value)\n",
    "- keys() : Mengembalikan daftar key dictionary\n",
    "- pop() : Menghapus item kunci yang disebutkan\n",
    "- popitem() : Menghapus item yang terakhir dimasukkan\n",
    "- setdefault() : Mengembalikan nilai dari kunci yang ditentukan. Jika kunci tidak ada: masukkan kunci dengan nilai yang ditentukan\n",
    "- update() : Menambah pasangan kunci yang diinginkan\n",
    "- values() : Mengembalikan daftar nilai dictionary"
   ]
  },
  {
   "cell_type": "markdown",
   "metadata": {
    "id": "Sacny0IzM1xc"
   },
   "source": [
    "## Clear()\n",
    "Untuk menghapus semua item/elemen yang termuat didalam dictionary, gunakan fungsi **clear()**\n",
    "\n",
    "dictionary.clear\n",
    "\n",
    "print(dictionary)"
   ]
  },
  {
   "cell_type": "code",
   "execution_count": 112,
   "metadata": {
    "colab": {
     "base_uri": "https://localhost:8080/"
    },
    "id": "aDt2u6E1OJK-",
    "outputId": "8c0bda5a-07b3-40d2-fe8b-3b21311f598b"
   },
   "outputs": [
    {
     "name": "stdout",
     "output_type": "stream",
     "text": [
      "{}\n"
     ]
    }
   ],
   "source": [
    "dict= {'Universitas' : 'UAD' , 'Prodi' : 'Matematika' , 'Tahun' : 2018 , 1800015065 : 'NIM'}\n",
    "dict.clear()\n",
    "print(dict)"
   ]
  },
  {
   "cell_type": "markdown",
   "metadata": {
    "id": "_AGp8ZqbMnws"
   },
   "source": [
    "## Copy()\n",
    "Untuk mengcopy/menyalin item didalam dictionary, bisa digunakan fungsi **copy()**"
   ]
  },
  {
   "cell_type": "code",
   "execution_count": 113,
   "metadata": {
    "colab": {
     "base_uri": "https://localhost:8080/"
    },
    "id": "56NFeeSSNOVo",
    "outputId": "3d87ace6-facd-427e-cb8c-76d067c5c59f"
   },
   "outputs": [
    {
     "name": "stdout",
     "output_type": "stream",
     "text": [
      "{'Universitas': 'UAD', 'Prodi': 'Matematika', 'Tahun': 2018, 1800015065: 'NIM'}\n"
     ]
    }
   ],
   "source": [
    "dict= {'Universitas' : 'UAD' , 'Prodi' : 'Matematika' , 'Tahun' : 2018 , 1800015065 : 'NIM'}\n",
    "C=dict.copy()\n",
    "print(C)"
   ]
  },
  {
   "cell_type": "markdown",
   "metadata": {
    "id": "Z6XDDzg2NyZ9"
   },
   "source": [
    "##Fromkeys()\n",
    "Untuk menyalin elemen di dalam dictionary, namun dengan kunci(key) dan nilai(value) tertentu, dapat menggunakan fungsi **fromkeys()**\n",
    "\n"
   ]
  },
  {
   "cell_type": "code",
   "execution_count": 114,
   "metadata": {
    "colab": {
     "base_uri": "https://localhost:8080/"
    },
    "id": "_KqfaOR_OUCc",
    "outputId": "832412b8-315d-4e8d-9d82-215ef047c765"
   },
   "outputs": [
    {
     "name": "stdout",
     "output_type": "stream",
     "text": [
      "{'Universitas': 0, 'Prodi': 0}\n"
     ]
    }
   ],
   "source": [
    "dict= {'Universitas' : 'UAD' , 'Prodi' : 'Matematika' , 'Tahun' : 2018 , 1800015065 : 'NIM'}\n",
    "x = ('Universitas', 'Prodi')\n",
    "y = 0\n",
    "\n",
    "thisdict = dict.fromkeys(x, y)\n",
    "\n",
    "print(thisdict)"
   ]
  },
  {
   "cell_type": "markdown",
   "metadata": {
    "id": "nl9ZkUY4gDRJ"
   },
   "source": [
    "## Get()"
   ]
  },
  {
   "cell_type": "code",
   "execution_count": 115,
   "metadata": {
    "colab": {
     "base_uri": "https://localhost:8080/"
    },
    "id": "u8CbPd6igFW9",
    "outputId": "f5a52d7a-35f4-4fac-a269-0d4bd9471bd3"
   },
   "outputs": [
    {
     "name": "stdout",
     "output_type": "stream",
     "text": [
      "Mustang\n"
     ]
    }
   ],
   "source": [
    "car =\t{\n",
    "  \"brand\": \"Ford\",\n",
    "  \"model\": \"Mustang\",\n",
    "  \"year\": 1964\n",
    "}\n",
    "\n",
    "print(car.get('model'))"
   ]
  },
  {
   "cell_type": "markdown",
   "metadata": {
    "id": "IfzbaW4lgWTa"
   },
   "source": [
    "##Items()"
   ]
  },
  {
   "cell_type": "code",
   "execution_count": 116,
   "metadata": {
    "colab": {
     "base_uri": "https://localhost:8080/"
    },
    "id": "gn_kNd6lgYlv",
    "outputId": "d1768ad3-f0d8-41c5-bb69-81dc4860a735"
   },
   "outputs": [
    {
     "name": "stdout",
     "output_type": "stream",
     "text": [
      "dict_items([('brand', 'Ford'), ('model', 'Mustang'), ('year', 1964)])\n"
     ]
    }
   ],
   "source": [
    "car =\t{\n",
    "  \"brand\": \"Ford\",\n",
    "  \"model\": \"Mustang\",\n",
    "  \"year\": 1964\n",
    "}\n",
    "\n",
    "print(car.items())"
   ]
  },
  {
   "cell_type": "markdown",
   "metadata": {
    "id": "SAp7WXAbU5Fn"
   },
   "source": [
    "##Pop()\n",
    "\n",
    "Menghapus item kunci sekaligus value yang disebutkan,mari kita lihat contohnya dibawah ini"
   ]
  },
  {
   "cell_type": "code",
   "execution_count": 117,
   "metadata": {
    "colab": {
     "base_uri": "https://localhost:8080/"
    },
    "id": "Rt8xRNXcVsSE",
    "outputId": "86fcd255-7e98-4924-953d-dc9c551d4418"
   },
   "outputs": [
    {
     "name": "stdout",
     "output_type": "stream",
     "text": [
      "{'Merek': 'Bandai', 'Jumlah': 200}\n"
     ]
    }
   ],
   "source": [
    "indoapril={'Barang':'Gundam','Merek':'Bandai','Jumlah':200}\n",
    "indoapril.pop('Barang')\n",
    "print(indoapril)"
   ]
  },
  {
   "cell_type": "markdown",
   "metadata": {
    "id": "8VTYZPHvWphG"
   },
   "source": [
    "## Popitem()\n",
    "\n",
    "Menghapus item yang terakhir dimasukkan "
   ]
  },
  {
   "cell_type": "code",
   "execution_count": 118,
   "metadata": {
    "colab": {
     "base_uri": "https://localhost:8080/"
    },
    "id": "7Ko__9YSW0d3",
    "outputId": "0e5dabf6-c2f2-4101-e1df-27c8a6bc3d6e"
   },
   "outputs": [
    {
     "name": "stdout",
     "output_type": "stream",
     "text": [
      "{'suami': 'Budi', 'istri': 'Dewi'}\n"
     ]
    }
   ],
   "source": [
    "#Kita akan menghilangkan pelakor dalam \"kehidupan_keluarga\"\n",
    "kehidupan_keluarga={'suami':'Budi','istri':'Dewi','pelakor':'Sari'}\n",
    "kehidupan_keluarga.popitem()\n",
    "print(kehidupan_keluarga)"
   ]
  },
  {
   "cell_type": "markdown",
   "metadata": {
    "id": "-Pa2ANcmYqn3"
   },
   "source": [
    "## Update()\n",
    "\n",
    "Menambahkan pasangan kunci yang diinginkan"
   ]
  },
  {
   "cell_type": "code",
   "execution_count": 119,
   "metadata": {
    "colab": {
     "base_uri": "https://localhost:8080/"
    },
    "id": "fGDs07Z5ZDTH",
    "outputId": "e66e44e6-f14b-4358-c8c8-a32cf4e671ad"
   },
   "outputs": [
    {
     "name": "stdout",
     "output_type": "stream",
     "text": [
      "{'Barang': 'Gundam', 'Merek': 'Bandai', 'Jumlah': 2000, 'Tanggal_Masuk': 12022020}\n"
     ]
    }
   ],
   "source": [
    "indoapril={'Barang':'Gundam','Merek':'Bandai','Jumlah':2000}\n",
    "indoapril.update({'Tanggal_Masuk': 12022020})\n",
    "print(indoapril)"
   ]
  },
  {
   "cell_type": "markdown",
   "metadata": {
    "id": "Ezf7B8N5b0n9"
   },
   "source": [
    "## Values()\n",
    "\n",
    "Mengembalikan daftar nilai pada dictionary\n"
   ]
  },
  {
   "cell_type": "code",
   "execution_count": 120,
   "metadata": {
    "colab": {
     "base_uri": "https://localhost:8080/"
    },
    "id": "ka70siM6dsPq",
    "outputId": "08f8d12f-e7c8-4c7e-8a17-72f2ac622e8a"
   },
   "outputs": [
    {
     "name": "stdout",
     "output_type": "stream",
     "text": [
      "dict_values(['Gundam', 'Bandai', 200])\n"
     ]
    }
   ],
   "source": [
    "indoapril={'Barang':'Gundam','Merek':'Bandai','Jumlah':200}\n",
    "a=indoapril.values()\n",
    "print(a)"
   ]
  },
  {
   "cell_type": "markdown",
   "metadata": {
    "id": "SrenDDAWgr7Z"
   },
   "source": [
    "## len()"
   ]
  },
  {
   "cell_type": "markdown",
   "metadata": {
    "id": "R_W396Mng7-8"
   },
   "source": [
    "Method len digunakan untuk mengetahui banyaknya item yang ada pada directory"
   ]
  },
  {
   "cell_type": "code",
   "execution_count": 121,
   "metadata": {
    "colab": {
     "base_uri": "https://localhost:8080/"
    },
    "id": "18YplPaigxog",
    "outputId": "e13b484e-283b-48d1-86fe-7b4f407b11f0"
   },
   "outputs": [
    {
     "name": "stdout",
     "output_type": "stream",
     "text": [
      "3\n"
     ]
    }
   ],
   "source": [
    "car =\t{\n",
    "  \"brand\": \"Ford\",\n",
    "  \"model\": \"Mustang\",\n",
    "  \"year\": 1964\n",
    "}\n",
    "\n",
    "print(len(car))"
   ]
  },
  {
   "cell_type": "markdown",
   "metadata": {
    "id": "Wp4TnoFGQabX"
   },
   "source": [
    "#The End Of Notebook\n",
    "\n",
    "Alhamdulillah"
   ]
  }
 ],
 "metadata": {
  "colab": {
   "collapsed_sections": [
    "Y0cxNwSpKqLf",
    "SXjjDvqYwPWD"
   ],
   "name": "[KD0301] List, String & Dictionary.ipynb",
   "provenance": [],
   "toc_visible": true
  },
  "kernelspec": {
   "display_name": "Python 3",
   "language": "python",
   "name": "python3"
  },
  "language_info": {
   "codemirror_mode": {
    "name": "ipython",
    "version": 3
   },
   "file_extension": ".py",
   "mimetype": "text/x-python",
   "name": "python",
   "nbconvert_exporter": "python",
   "pygments_lexer": "ipython3",
   "version": "3.8.5"
  }
 },
 "nbformat": 4,
 "nbformat_minor": 1
}
