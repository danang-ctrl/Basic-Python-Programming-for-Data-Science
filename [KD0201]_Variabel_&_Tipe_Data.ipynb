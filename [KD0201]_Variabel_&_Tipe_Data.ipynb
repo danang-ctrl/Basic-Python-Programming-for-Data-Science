{
 "cells": [
  {
   "cell_type": "markdown",
   "metadata": {
    "id": "Og624K31g4Ja"
   },
   "source": [
    "![alt text](https://drive.google.com/uc?id=1oZeOBAOozxedBi-jq-LzN8BQd0NB7Ocy\n",
    ")\n",
    "\n",
    "\n"
   ]
  },
  {
   "cell_type": "markdown",
   "metadata": {
    "id": "g72baECruJew"
   },
   "source": [
    "Assalamualaikum warahmatullahi wabarakatuh.\n",
    "\n",
    "***Robbi Zidni Ilma Warzuqni Fahma***\n",
    "\n",
    "Semoga Allah memberi kemudahan untuk kita memperoleh ilmu yang bermanfaat.\n",
    "\n",
    "Ini adalah notebook yang disusun untuk **Kelas Dasar Pejuang Data Sains 2.0** .\n",
    "\n",
    "Ini adalah **Notebook Variabel & Tipe Data**:\n",
    "\n",
    "## **Hasil Yang Ingin Dicapai**\n",
    "1. Memahami input dan output pada python\n",
    "2. Mengenal dan memahami variabel dan tipe data pada python\n",
    "3. Mengenal dan memahami struktur data pada python\n",
    "\n",
    "### ***!!!***\n",
    "\n",
    "***Sebelum memulai mempelajari notebook ini, jangan lupa untuk menyalinnya di drive masing-masing ya.***\n",
    "\n",
    "### ***!!!***\n"
   ]
  },
  {
   "cell_type": "markdown",
   "metadata": {
    "id": "0KrQhq25d3XW"
   },
   "source": [
    "##  **Input & Output pada Pyhton**"
   ]
  },
  {
   "cell_type": "markdown",
   "metadata": {
    "id": "q9n37nDmd8-5"
   },
   "source": [
    "Kita akan memulai dengan mencoba mengenal dan memahami proses input dan output pada bahasa pemrograman python. Sebuah Program terdiri dari Input, Proses dan Output\n",
    "\n",
    "**Membuat input dengan fungsi input()**\n",
    "\n",
    "format input() :\n",
    "input(*object, nilai)\n",
    "\n",
    "Sebuah input dapat dikelola berdasarkan tipe datanya :\n",
    "\n",
    "* input() : nilai berupa string\n",
    "\n",
    "* str(input()) : nilai berupa string\n",
    "\n",
    "* int(input()) : nilai berupa integer\n",
    "\n",
    "* float(input()) : nilai berupa float\n",
    "\n",
    "* bool(input()) : nilai berupa boolean\n",
    "\n",
    "**Untuk menampilkan Output dengan fungsi print()**\n",
    "\n",
    "format print() :\n",
    "print(*object, sep=' ', end='\\n', file=sys.stdout, flush=False/True)"
   ]
  },
  {
   "cell_type": "code",
   "execution_count": 1,
   "metadata": {
    "colab": {
     "base_uri": "https://localhost:8080/"
    },
    "id": "owIrz7XYeZb-",
    "outputId": "37931887-4236-48f1-d0a4-ee37023fb996"
   },
   "outputs": [
    {
     "name": "stdout",
     "output_type": "stream",
     "text": [
      "Nama : adam\n",
      "Umur : 23\n",
      "Alamat : jakarta\n"
     ]
    }
   ],
   "source": [
    "# Membuat input bertipe data string (str)\n",
    "nama = input(\"Nama : \")\n",
    "umur = input(\"Umur : \")\n",
    "alamat = input(\"Alamat : \")"
   ]
  },
  {
   "cell_type": "code",
   "execution_count": 7,
   "metadata": {
    "colab": {
     "base_uri": "https://localhost:8080/"
    },
    "id": "AUYUbTLklIax",
    "outputId": "41d971a7-3842-41d5-febb-f97cda5f43f9"
   },
   "outputs": [
    {
     "name": "stdout",
     "output_type": "stream",
     "text": [
      "adam \n",
      " 23\n"
     ]
    },
    {
     "data": {
      "text/plain": [
       "str"
      ]
     },
     "execution_count": 7,
     "metadata": {},
     "output_type": "execute_result"
    }
   ],
   "source": [
    "print( nama,\"\\n\",umur)\n",
    "type(nama)"
   ]
  },
  {
   "cell_type": "code",
   "execution_count": 1,
   "metadata": {
    "colab": {
     "base_uri": "https://localhost:8080/"
    },
    "id": "iIe-IGH9ecEk",
    "outputId": "e21061a0-07b8-4864-9874-4d2a6f0e26f4"
   },
   "outputs": [
    {
     "name": "stdout",
     "output_type": "stream",
     "text": [
      "1\n",
      "1\n"
     ]
    }
   ],
   "source": [
    "# Membuat input bertipe data integer (int)\n",
    "angka1 = int(input())\n",
    "print(angka1)"
   ]
  },
  {
   "cell_type": "code",
   "execution_count": null,
   "metadata": {
    "colab": {
     "base_uri": "https://localhost:8080/"
    },
    "id": "UKWV8tPHedhw",
    "outputId": "81f1598f-9dff-4d18-afbd-0d99a02ca228"
   },
   "outputs": [
    {
     "name": "stdout",
     "output_type": "stream",
     "text": [
      "2\n",
      "2.0\n"
     ]
    }
   ],
   "source": [
    "# Membuat input beripe data float\n",
    "angka2 = float(input())\n",
    "print(angka2)"
   ]
  },
  {
   "cell_type": "markdown",
   "metadata": {
    "id": "frV9dqp5jlBD"
   },
   "source": [
    "Saatnya kamu mencoba!!!"
   ]
  },
  {
   "cell_type": "code",
   "execution_count": 18,
   "metadata": {
    "id": "tKNsgrWujn49"
   },
   "outputs": [
    {
     "name": "stdout",
     "output_type": "stream",
     "text": [
      "integer:1\n",
      "string: 2\n",
      "float: 3\n",
      "boolean: 4\n",
      "1 2 3.0 False\n"
     ]
    }
   ],
   "source": [
    "i = int(input(\"integer:\"))\n",
    "s = str(input(\"string: \"))\n",
    "f = float(input(\"float: \"))\n",
    "b = bool(input(\"boolean: \")==0)\n",
    "print(i,s,f,b)"
   ]
  },
  {
   "cell_type": "markdown",
   "metadata": {
    "id": "hN1PZcobegAQ"
   },
   "source": [
    "# **Menampilkan Output cara pertama**\n"
   ]
  },
  {
   "cell_type": "code",
   "execution_count": 19,
   "metadata": {
    "colab": {
     "base_uri": "https://localhost:8080/"
    },
    "id": "YJKK2Fmmej8J",
    "outputId": "81cf2b97-7d56-408e-807d-16019e5d83ba"
   },
   "outputs": [
    {
     "name": "stdout",
     "output_type": "stream",
     "text": [
      "Nama saya adam yang berumur 23 dan bertempat tinggal di jakarta\n"
     ]
    }
   ],
   "source": [
    "print(\"Nama saya\"+\" \"+ nama + \" \" + \"yang berumur\"+ \" \" + umur + \" \" + \"dan bertempat tinggal di\"+ \" \" + alamat)"
   ]
  },
  {
   "cell_type": "markdown",
   "metadata": {
    "id": "tzkB1SQ1jqPM"
   },
   "source": [
    "Saatnya kamu mencoba!!!"
   ]
  },
  {
   "cell_type": "code",
   "execution_count": 21,
   "metadata": {
    "colab": {
     "base_uri": "https://localhost:8080/"
    },
    "id": "p5Z-jMEijtlV",
    "outputId": "72b12711-2a55-4765-94ba-5124d4d182e4"
   },
   "outputs": [
    {
     "name": "stdout",
     "output_type": "stream",
     "text": [
      " nama saya universitas  kota\n"
     ]
    }
   ],
   "source": [
    "print(' nama saya'+' '+'universitas'+ ' ' +' kota')"
   ]
  },
  {
   "cell_type": "markdown",
   "metadata": {
    "id": "XSSsrFkEemXP"
   },
   "source": [
    "**Menampilkan Output cara kedua**\n",
    "\n",
    "Menggunakan fungsi format()"
   ]
  },
  {
   "cell_type": "code",
   "execution_count": 22,
   "metadata": {
    "colab": {
     "base_uri": "https://localhost:8080/",
     "height": 35
    },
    "id": "mavFHYasj3RL",
    "outputId": "92ae3b10-f141-47c1-f5be-a76bd8392b1f"
   },
   "outputs": [
    {
     "data": {
      "text/plain": [
       "'Nama saya Dahlan, Saya berumur 18'"
      ]
     },
     "execution_count": 22,
     "metadata": {},
     "output_type": "execute_result"
    }
   ],
   "source": [
    "txt1 = \"Nama saya {nama}, Saya berumur {umur}\".format(nama = \"Dahlan\", umur = 18)\n",
    "txt1"
   ]
  },
  {
   "cell_type": "code",
   "execution_count": 23,
   "metadata": {
    "colab": {
     "base_uri": "https://localhost:8080/",
     "height": 35
    },
    "id": "MgiB5WBOkxzY",
    "outputId": "81a56d4f-6bca-498b-8043-e01fe2375478"
   },
   "outputs": [
    {
     "data": {
      "text/plain": [
       "'Nama saya Dahlan, Saya berumur 18'"
      ]
     },
     "execution_count": 23,
     "metadata": {},
     "output_type": "execute_result"
    }
   ],
   "source": [
    "txt2 = \"Nama saya {0}, Saya berumur {1}\".format(\"Dahlan\",18)\n",
    "txt2"
   ]
  },
  {
   "cell_type": "code",
   "execution_count": 24,
   "metadata": {
    "colab": {
     "base_uri": "https://localhost:8080/",
     "height": 35
    },
    "id": "fKGVHjq7kyo_",
    "outputId": "cff28403-9862-479d-8005-a9fbd965d070"
   },
   "outputs": [
    {
     "data": {
      "text/plain": [
       "'Nama saya Dahlan, Saya berumur 18'"
      ]
     },
     "execution_count": 24,
     "metadata": {},
     "output_type": "execute_result"
    }
   ],
   "source": [
    "txt3 = \"Nama saya {}, Saya berumur {}\".format(\"Dahlan\",18)\n",
    "txt3"
   ]
  },
  {
   "cell_type": "markdown",
   "metadata": {
    "id": "Ho1x_r1Sk-KX"
   },
   "source": [
    "Saatnya kamu mencoba!!!"
   ]
  },
  {
   "cell_type": "code",
   "execution_count": 32,
   "metadata": {
    "id": "T66KZDWyk_AN"
   },
   "outputs": [
    {
     "data": {
      "text/plain": [
       "('nama saya adam berumur 23 tinggal jakarta',\n",
       " 'nama saya adam berumur 23 tinggal jakarta',\n",
       " 'nama saya adam berumur 23 tinggal di jakarta')"
      ]
     },
     "execution_count": 32,
     "metadata": {},
     "output_type": "execute_result"
    }
   ],
   "source": [
    "p1 = \"nama saya \"+nama+ \" berumur \"+ umur+ \" tinggal \"+ alamat\n",
    "p2 = \"nama saya {0} berumur {1} tinggal {2}\".format(nama,umur,alamat)\n",
    "p3 = \"nama saya {} berumur {} tinggal di {}\".format(nama,umur,alamat)\n",
    "p1,p2,p3"
   ]
  },
  {
   "cell_type": "markdown",
   "metadata": {
    "id": "uYCMhDyWeqTZ"
   },
   "source": [
    "**Menampilkan Output cara ketiga**\n",
    "\n",
    "Menggunakan simbol %\n",
    "\n",
    "* %c : mencetak karakter\n",
    "\n",
    "* %s : mencetak data menjadi string\n",
    "\n",
    "* %i, %d : mencetak angka desimal bertanda\n",
    "* %u : mencetak angka desimal tak bertanda\n",
    "* %x, %X : mencetak angka heksa dengan huruf kecil %x atau besar %X\n",
    "* %f : mencetak angka real berkoma\n",
    "* %e, %E : mencetak tanda eksponensial dengan huruf kecil %e atau besar %E\n",
    "* %g, %G : fungsi hampir sama dengan %f dan %e hanya saja pencetakan angak di belakang koma lebih pendek"
   ]
  },
  {
   "cell_type": "code",
   "execution_count": null,
   "metadata": {
    "colab": {
     "base_uri": "https://localhost:8080/"
    },
    "id": "0bz0OcMzetR-",
    "outputId": "bdeb0773-f955-437c-e624-a2419bb983d5"
   },
   "outputs": [
    {
     "name": "stdout",
     "output_type": "stream",
     "text": [
      "Nama saya Pejuang Data yang berumur 17 dan bertempat tinggal di Yogyakarta\n"
     ]
    }
   ],
   "source": [
    "print(\"Nama saya %s yang berumur %s dan bertempat tinggal di %s\" %(nama, umur, alamat))"
   ]
  },
  {
   "cell_type": "markdown",
   "metadata": {
    "id": "W8oWmIBplFdL"
   },
   "source": [
    "Saatnya kamu mencoba!!!"
   ]
  },
  {
   "cell_type": "code",
   "execution_count": 81,
   "metadata": {
    "id": "zDzKyrpUlGXD"
   },
   "outputs": [
    {
     "name": "stdout",
     "output_type": "stream",
     "text": [
      "aku ¾ sama dengan ¿\n",
      "aku 190 sama dengan 191\n",
      "aku 190 sama dengan 191\n",
      "aku 190 sama dengan 191\n",
      "aku be sama dengan BF\n",
      "aku 190.000000 sama dengan 191.000000\n",
      "aku 1.900000e+02 sama dengan 1.910000E+02\n",
      "aku 190 sama dengan 191\n"
     ]
    }
   ],
   "source": [
    "A,B = 190,191\n",
    "print(\"aku %c sama dengan %c\"%(A,B))\n",
    "print(\"aku %s sama dengan %s\"%(A,B))\n",
    "print(\"aku %i sama dengan %d\"%(A,B))\n",
    "print(\"aku %u sama dengan %u\"%(A,B))\n",
    "print(\"aku %x sama dengan %X\"%(A,B))\n",
    "print(\"aku %f sama dengan %f\"%(A,B))\n",
    "print(\"aku %e sama dengan %E\"%(A,B))\n",
    "print(\"aku %g sama dengan %G\"%(A,B))"
   ]
  },
  {
   "cell_type": "markdown",
   "metadata": {
    "id": "Lus7pe_3tD6n"
   },
   "source": [
    "## **Variabel, Tipe Data, Dan Konversinya**"
   ]
  },
  {
   "cell_type": "markdown",
   "metadata": {
    "id": "KJx8rxdzlKgR"
   },
   "source": [
    "Selanjutnya kita akan mengenal variabel dan tipe data pada python. Ini merupakan dasar yang harus dipahami di awal sebelum melanjutkan ke materi berikutnya. Pertama kita akan memahami bagaimana sebuah variabel dituliskan dalam python."
   ]
  },
  {
   "cell_type": "markdown",
   "metadata": {
    "id": "7Mzb7KbGvX4O"
   },
   "source": [
    "### Variabel"
   ]
  },
  {
   "cell_type": "markdown",
   "metadata": {
    "id": "57FeEUMgvaIj"
   },
   "source": [
    "*   Variabel merupakan tempat penyimpanan data atau nilai\n",
    "*   Sebuah variabel dalam python bisa diisi dengan berbagai tipe data\n",
    "*   Nama sebuah variabel tidak bisa diawali dengan angka/numerik\n",
    "*   Nama sebuah variabel selain keyword dari bahasa python\n",
    "*   Format variabel : Nama_variabel = data/nilai"
   ]
  },
  {
   "cell_type": "markdown",
   "metadata": {
    "id": "dO2t9vXyvv-A"
   },
   "source": [
    "**Membuat sebuah variabel dengan berbagai tipe data Python**"
   ]
  },
  {
   "cell_type": "code",
   "execution_count": 1,
   "metadata": {
    "id": "VadqbpNStZvE"
   },
   "outputs": [],
   "source": [
    "var1 = 'Assalamualaikum Dunia!' #String\n",
    "var2 = 1234567890 # int\n",
    "var3 = 0.123456789 # float\n",
    "var4 = False #bool\n",
    "var5 = 1j+1 #complex"
   ]
  },
  {
   "cell_type": "markdown",
   "metadata": {
    "id": "rtPG7Nwrv00R"
   },
   "source": [
    "Buat variabelmu sendiri di bawah ini ya!"
   ]
  },
  {
   "cell_type": "code",
   "execution_count": 2,
   "metadata": {
    "colab": {
     "base_uri": "https://localhost:8080/"
    },
    "id": "xTlpIfrav6B1",
    "outputId": "36386df2-64ec-4545-a8fb-f09da22e0dc8"
   },
   "outputs": [
    {
     "name": "stdout",
     "output_type": "stream",
     "text": [
      " belajar bersama Pejuang Data\n"
     ]
    }
   ],
   "source": [
    "var7=' belajar bersama Pejuang Data'\n",
    "print(var7)"
   ]
  },
  {
   "cell_type": "markdown",
   "metadata": {
    "id": "gAC3CAFawHJ1"
   },
   "source": [
    "**Memanggil variabel dan menampilkan**"
   ]
  },
  {
   "cell_type": "markdown",
   "metadata": {
    "id": "996pBnxgwNf0"
   },
   "source": [
    "Kamu dapat memanggil variabel hanya dengan menuliskan variabel yang sudah kamu buat di atas dan menjalankan cellnya"
   ]
  },
  {
   "cell_type": "code",
   "execution_count": 3,
   "metadata": {
    "colab": {
     "base_uri": "https://localhost:8080/",
     "height": 35
    },
    "id": "g6_bbvvZwVhY",
    "outputId": "b236d721-d264-4098-b4a6-32cd73312a63"
   },
   "outputs": [
    {
     "data": {
      "text/plain": [
       "'Assalamualaikum Dunia!'"
      ]
     },
     "execution_count": 3,
     "metadata": {},
     "output_type": "execute_result"
    }
   ],
   "source": [
    "var1\n"
   ]
  },
  {
   "cell_type": "markdown",
   "metadata": {
    "id": "4eUl4LHlwZr3"
   },
   "source": [
    "Saatnya kamu mencoba!!!"
   ]
  },
  {
   "cell_type": "code",
   "execution_count": 4,
   "metadata": {
    "id": "o_0CkJeoR526"
   },
   "outputs": [],
   "source": [
    "a = 'Selamat Datang'\n",
    "b = 1232132\n",
    "c = 0.3434333222\n",
    "d = False\n",
    "e = 2j+1"
   ]
  },
  {
   "cell_type": "markdown",
   "metadata": {
    "id": "_fXoG5cvwliz"
   },
   "source": [
    "Selain itu, kamu juga bisa mencetak, atau menampilkan variabel yang sudah kamu buat dengan cara memasukkan syntak **print(*variable*)**. Contohnya sebagai berikut:"
   ]
  },
  {
   "cell_type": "code",
   "execution_count": 5,
   "metadata": {
    "colab": {
     "base_uri": "https://localhost:8080/"
    },
    "id": "1QQDTfwgw1X4",
    "outputId": "213a130b-a971-4581-c11f-511060a8cfc1"
   },
   "outputs": [
    {
     "name": "stdout",
     "output_type": "stream",
     "text": [
      "Assalamualaikum Dunia!\n",
      "1234567890\n",
      "0.123456789\n",
      "False\n",
      "(1+1j)\n"
     ]
    }
   ],
   "source": [
    "print(var1) #tipe data string\n",
    "print(var2) #tipe data integer\n",
    "print(var3) #tipe data float\n",
    "print(var4) #tipe data boolean\n",
    "print(var5) #tipe data Complex"
   ]
  },
  {
   "cell_type": "markdown",
   "metadata": {
    "id": "sx2xL6rBw4DI"
   },
   "source": [
    "Sekarang, tampilkan variabelmu sendiri:"
   ]
  },
  {
   "cell_type": "code",
   "execution_count": 6,
   "metadata": {
    "id": "8JJMEObiw8UA"
   },
   "outputs": [
    {
     "name": "stdout",
     "output_type": "stream",
     "text": [
      "Selamat Datang\n",
      "1232132\n",
      "0.3434333222\n",
      "False\n",
      "(1+2j)\n"
     ]
    }
   ],
   "source": [
    "#Mencetak variabel punya kamuuch\n",
    "#String\n",
    "print(a)\n",
    "#Int\n",
    "print(b)\n",
    "#Float\n",
    "print(c)\n",
    "#Boolean\n",
    "print(d)\n",
    "#Complex\n",
    "print(e)"
   ]
  },
  {
   "cell_type": "markdown",
   "metadata": {
    "id": "2bbm3gzTxF7i"
   },
   "source": [
    "Note: Tanda Pagar (#) berfungsi sebagai komentar, tidak dijalankan sebagai perintah pemrograman"
   ]
  },
  {
   "cell_type": "markdown",
   "metadata": {
    "id": "2F-xcS4yxlHN"
   },
   "source": [
    "### Tipe Data"
   ]
  },
  {
   "cell_type": "markdown",
   "metadata": {
    "id": "SgWP52IMmFtz"
   },
   "source": [
    "Tipe data adalah kumpulan tipe yang dapat kamu temukan di semua data. Dengan memahami tipe data, kamu dapat menentukan nilai data yang dimiliki dari data tersebut."
   ]
  },
  {
   "cell_type": "markdown",
   "metadata": {
    "id": "llL51Zdwxwpb"
   },
   "source": [
    "\n",
    "**Mengenal Beberapa Tipe Data Pada Python:**\n",
    "1.   String\n",
    "2.   Number (Integer, Float, Complex, Boolean)\n"
   ]
  },
  {
   "cell_type": "markdown",
   "metadata": {
    "id": "eLHFbBYox2WK"
   },
   "source": [
    "**Melihat Tipe Data dari Suatu Variabel**"
   ]
  },
  {
   "cell_type": "markdown",
   "metadata": {
    "id": "kw7AVHzXx3u9"
   },
   "source": [
    "Kamu bisa melihat tipe variabel yang sudah kamu buat,apakah tipe data kamu adalah int, float, boolean, string, dll menggunakan fungsi **type(*variabel*)**, sebagai berikut:"
   ]
  },
  {
   "cell_type": "code",
   "execution_count": 7,
   "metadata": {
    "colab": {
     "base_uri": "https://localhost:8080/"
    },
    "id": "0cliBOA8x00W",
    "outputId": "6aa1d69e-39ff-48f2-8e7c-4cafe53b43e2"
   },
   "outputs": [
    {
     "data": {
      "text/plain": [
       "str"
      ]
     },
     "execution_count": 7,
     "metadata": {},
     "output_type": "execute_result"
    }
   ],
   "source": [
    "type(var1)"
   ]
  },
  {
   "cell_type": "markdown",
   "metadata": {
    "id": "B6V8BwCbyVIg"
   },
   "source": [
    "Sekarang coba kamu cek tipe variabel yang udah kamu buat!!!"
   ]
  },
  {
   "cell_type": "code",
   "execution_count": 8,
   "metadata": {
    "id": "-T8yJE3TyZAn"
   },
   "outputs": [
    {
     "data": {
      "text/plain": [
       "(1+3j)"
      ]
     },
     "execution_count": 8,
     "metadata": {},
     "output_type": "execute_result"
    }
   ],
   "source": [
    "#Mengecek tipe variabel\n",
    "#String\n",
    "'string'\n",
    "#Int\n",
    "23123\n",
    "#Float\n",
    "3243.23234\n",
    "#Boolean\n",
    "0\n",
    "#Complex\n",
    "3j+1"
   ]
  },
  {
   "cell_type": "markdown",
   "metadata": {
    "id": "spcVxw41ygO3"
   },
   "source": [
    "Kok yang tampil cuma yang terakhir!!!, ya emang begitu, python hanya akan ngejalanin line terakhir untuk ditampilin, biar tampil semua maka kita print aja seperti di bawah ini:"
   ]
  },
  {
   "cell_type": "code",
   "execution_count": 9,
   "metadata": {
    "colab": {
     "base_uri": "https://localhost:8080/"
    },
    "id": "HS7qXuc2zAw9",
    "outputId": "15d28522-37b2-4e34-a29a-919f6749ed79"
   },
   "outputs": [
    {
     "name": "stdout",
     "output_type": "stream",
     "text": [
      "Selamat Datang Tipe data var1: <class 'str'>\n",
      "1232132 Tipe data var2: <class 'int'>\n",
      "0.3434333222 Tipe data var3: <class 'float'>\n",
      "False Tipe data var4: <class 'bool'>\n",
      "(1+2j) Tipe data var5: <class 'complex'>\n"
     ]
    }
   ],
   "source": [
    "print(a,'Tipe data var1:', type(a))\n",
    "print(b,'Tipe data var2:', type(b))\n",
    "print(c,'Tipe data var3:', type(c))\n",
    "print(d,'Tipe data var4:', type(d))\n",
    "print(e,'Tipe data var5:', type(e))"
   ]
  },
  {
   "cell_type": "markdown",
   "metadata": {
    "id": "2HFv--oSzIGb"
   },
   "source": [
    "### Konversi Tipe Data"
   ]
  },
  {
   "cell_type": "markdown",
   "metadata": {
    "id": "paR8fwYXzK0y"
   },
   "source": [
    "Capek gag sih, bikin data baru mulu untuk sebuah tipe data yang berbeda. Kalo capek ya udah, rehat dulu. Nah ada cara lain sih, yaitu dengan mengubah tipe data yang udah kita miliki menjadi tipe data yang kita inginkan. Kadang gag harus ganti kan, cukup komit untuk merubah hal-hal yang sudah ada sesuai keinginan kita. OK Lanjuut.\n",
    "\n",
    "Intinya mah misal kita punya variabel tipenya int tapi kita butuh variabel itu jadi float ya kita bisa konversi, gimana caranya?\n",
    "\n",
    "Pake fungsi donk, fungsinya macem-macem, tapi intinya adalah fungsinya bernama tipe data baru yang ingin kita buat kemudian inputnya adalah tipe data yang mau kita ubah. Begono.\n",
    "\n"
   ]
  },
  {
   "cell_type": "markdown",
   "metadata": {
    "id": "V3WgQpDQfVdP"
   },
   "source": [
    "Bingung?\n",
    "Ini lho macam-macam fungsinya:\n",
    "\n",
    "Fungsi untuk mengubah/konversi tipe data:\n",
    "\n",
    "a. int() : untuk mengubah menjadi integer\n",
    "\n",
    "b. float() : untuk mengubah menjadi float\n",
    "\n",
    "c. str() : untuk mengubah menjadi string\n",
    "\n",
    "d. bool() : untuk mengubah menjadi boolean\n",
    "\n",
    "e. long() : untuk mengubah menjadi integer panjang\n",
    "\n",
    "f. chr() : untuk mengubah menjadi karakter\n",
    "\n",
    "g. bin() : untuk mengubah menjadi bilangan biner\n",
    "\n",
    "h. hex() : untuk mengubah menjadi bilangan Heksadesimal\n",
    "\n",
    "i. oct() : untuk mengubah menjadi bilangan okta\n",
    "\n",
    "Contohnya ini ya:"
   ]
  },
  {
   "cell_type": "code",
   "execution_count": 10,
   "metadata": {
    "colab": {
     "base_uri": "https://localhost:8080/"
    },
    "id": "plkvjAkY0HoX",
    "outputId": "707e84cc-921c-4dda-dd7f-8059af1e86ed"
   },
   "outputs": [
    {
     "name": "stdout",
     "output_type": "stream",
     "text": [
      "data = 10 , type = <class 'int'>\n"
     ]
    }
   ],
   "source": [
    "number = 10\n",
    "print(\"data =\", number, \", type =\", type(number))"
   ]
  },
  {
   "cell_type": "code",
   "execution_count": 11,
   "metadata": {
    "colab": {
     "base_uri": "https://localhost:8080/"
    },
    "id": "1TEC5edF0Mi_",
    "outputId": "d46ffe3c-b04b-489b-fa0c-661d7652bccb"
   },
   "outputs": [
    {
     "name": "stdout",
     "output_type": "stream",
     "text": [
      "data =  10.0 ,type = <class 'float'>\n",
      "data =  10 ,type = <class 'str'>\n",
      "data =  True ,type = <class 'bool'>\n"
     ]
    }
   ],
   "source": [
    "# Mengkonversi tipe data integer\n",
    "kon_float = float(number)\n",
    "kon_str = str(number)\n",
    "kon_bool = bool(number) #False jika integer = 0, lainnya True (perhatikan hasilnya)\n",
    "\n",
    "# Melihat data yang telah dikonversi\n",
    "print(\"data = \", kon_float , \",type =\", type(kon_float))\n",
    "print(\"data = \", kon_str , \",type =\", type(kon_str))\n",
    "print(\"data = \", kon_bool , \",type =\", type(kon_bool))"
   ]
  },
  {
   "cell_type": "markdown",
   "metadata": {
    "id": "QLayxkuqnD4Q"
   },
   "source": [
    "Saatnya kamu mencoba!!!"
   ]
  },
  {
   "cell_type": "code",
   "execution_count": 36,
   "metadata": {
    "id": "usm18JyhBc_l"
   },
   "outputs": [
    {
     "name": "stdout",
     "output_type": "stream",
     "text": [
      "angka:  123 tipe:  <class 'int'>\n",
      "123 <class 'str'>\n",
      "True <class 'bool'>\n",
      "123.0 <class 'float'>\n",
      "{ <class 'str'>\n",
      "0b1111011 <class 'str'>\n",
      "0x7b <class 'str'>\n",
      "0o173 <class 'str'>\n"
     ]
    }
   ],
   "source": [
    "angka = 123\n",
    "print(\"angka: \",angka,\"tipe: \",type(angka))\n",
    "\n",
    "#konversi tipe data\n",
    "string = str(angka)\n",
    "booelan = bool(angka)\n",
    "fl = float(angka)\n",
    "karakter = chr(angka)\n",
    "binary = bin(angka)\n",
    "hexa = hex(angka)\n",
    "octa = oct(angka)\n",
    "\n",
    "print(string,type(string))\n",
    "print(booelan,type(booelan))\n",
    "print(fl,type(fl))\n",
    "print(karakter,type(karakter))\n",
    "print(binary,type(binary))\n",
    "print(hexa,type(hexa))\n",
    "print(octa,type(octa))\n",
    "\n",
    "\n",
    "\n",
    "\n",
    "\n"
   ]
  },
  {
   "cell_type": "markdown",
   "metadata": {
    "id": "BTjZS9m1thuw"
   },
   "source": [
    "## **Berbagai Struktur Data di Python**"
   ]
  },
  {
   "cell_type": "markdown",
   "metadata": {
    "id": "TBsQY66PDWrs"
   },
   "source": [
    "### **List**"
   ]
  },
  {
   "cell_type": "markdown",
   "metadata": {
    "id": "-u6JOj_IDaKk"
   },
   "source": [
    "List adalah jenis kumpulan data terurut (ordered sequence), dan merupakan salah satu variabel yang sering digunakan pada Python. Serupa, namun tak sama dengan array pada bahasa pemrograman lainnya. Bedanya, elemen List pada Python tidak harus memiliki tipe data yang sama. Mendeklarasikan List cukup mudah dengan kurung siku dan elemen yang dipisahkan dengan koma. "
   ]
  },
  {
   "cell_type": "markdown",
   "metadata": {
    "id": "9HjWw49REaRC"
   },
   "source": [
    "*Setiap data di dalamnya dapat diakses dengan indeks yang dimulai dari 0.*"
   ]
  },
  {
   "cell_type": "code",
   "execution_count": 13,
   "metadata": {
    "colab": {
     "base_uri": "https://localhost:8080/"
    },
    "id": "dP3www4UEiMu",
    "outputId": "d96a2b87-cda1-4acb-8627-000c7026b566"
   },
   "outputs": [
    {
     "data": {
      "text/plain": [
       "[1, 2.2, 'python']"
      ]
     },
     "execution_count": 13,
     "metadata": {},
     "output_type": "execute_result"
    }
   ],
   "source": [
    "a = [1, 2.2, 'python']\n",
    "a"
   ]
  },
  {
   "cell_type": "markdown",
   "metadata": {
    "id": "vhI0ElKOnKxC"
   },
   "source": [
    "Bikin versimu sendiri donk, jangan baca doank! heheheh"
   ]
  },
  {
   "cell_type": "code",
   "execution_count": 38,
   "metadata": {
    "id": "3jQM3A-vFBHE"
   },
   "outputs": [
    {
     "name": "stdout",
     "output_type": "stream",
     "text": [
      "[1, 2.333, 232, 'angka', 'dalam', 'python']\n"
     ]
    }
   ],
   "source": [
    "b = [1,2.333,232,'angka',\"dalam\",'python']\n",
    "print(b)\n",
    "\n",
    "\n"
   ]
  },
  {
   "cell_type": "markdown",
   "metadata": {
    "id": "xB5by4KJEm-3"
   },
   "source": [
    "Python mengenal slicing operator [ ] yang dapat melakukan ekstraksi sebuah item atau beberapa item yang berada dalam range tertentu pada tipe data urutan (sequences), misalnya list, string dan tuple. Beberapa tipe urutan juga mendukung \"extended slicing\" dengan parameter ketiga berupa \"step\"."
   ]
  },
  {
   "cell_type": "markdown",
   "metadata": {
    "id": "yQr2VKIHEp91"
   },
   "source": [
    "* x[0] artinya mengambil elemen paling awal, dengan  index 0 dari List x.\n",
    "\n",
    "* x[5] artinya mengambil elemen dengan index 5 dari List x.\n",
    "\n",
    "* x[-1] artinya mengambil elemen dengan index paling belakang ke-1 dari List x.\n",
    "\n",
    "* x[3:5] artinya membuat list dari anggota elemen List x dengan index 3 hingga sebelum index 5 (tidak termasuk elemen dengan index 5, dalam hal ini hanya index 3-4).\n",
    "\n",
    "* x[:5] artinya membuat list dari anggota elemen List x paling awal hingga sebelum index 5 (tidak termasuk elemen dengan index 5, dalam hal ini hanya index 0-4).\n",
    "\n",
    "* x[-3:] artinya membuat list dari anggota elemen List x mulai index ke-3 dari belakang hingga paling belakang.\n",
    "\n",
    "* x[1:7:2] artinya membuat list dari anggota elemen List x dengan index 1 hingga sebelum index 7, dengan \"step\" 2 (dalam hal ini hanya index 1, 3, 5)."
   ]
  },
  {
   "cell_type": "code",
   "execution_count": 14,
   "metadata": {
    "colab": {
     "base_uri": "https://localhost:8080/"
    },
    "id": "VUCcs22SE9YD",
    "outputId": "c4ab6f0f-4ffc-47a8-e0ce-a0973b9c7aeb"
   },
   "outputs": [
    {
     "name": "stdout",
     "output_type": "stream",
     "text": [
      "30\n",
      "40\n",
      "[20, 25]\n",
      "[5, 10, 15, 20, 25]\n",
      "[30, 35, 40]\n",
      "[10, 20, 30]\n"
     ]
    }
   ],
   "source": [
    "x = [5,10,15,20,25,30,35,40]\n",
    "print(x[5])\n",
    "print(x[-1])\n",
    "print(x[3:5])\n",
    "print(x[:5])\n",
    "print(x[-3:])\n",
    "print(x[1:7:2])"
   ]
  },
  {
   "cell_type": "markdown",
   "metadata": {
    "id": "67egXHvonS_-"
   },
   "source": [
    "Cobain ya!"
   ]
  },
  {
   "cell_type": "code",
   "execution_count": 40,
   "metadata": {
    "id": "novBhwPUFKVp"
   },
   "outputs": [
    {
     "name": "stdout",
     "output_type": "stream",
     "text": [
      "5\n",
      "42\n",
      "[5, 3, 7]\n",
      "[1, 4, 2]\n",
      "[234]\n",
      "[4, 2, 5, 3]\n"
     ]
    }
   ],
   "source": [
    "\n",
    "\n",
    "c = [1,4,2,5,3,7,4546,4,2,343242343,2343,43,45,34,23,23,42,3444,234]\n",
    "print(c[3])\n",
    "print(c[-3])\n",
    "print(c[3:6])\n",
    "print(c[:3])\n",
    "print(c[-1:])\n",
    "print(c[1:5:1])\n",
    "\n",
    "\n"
   ]
  },
  {
   "cell_type": "markdown",
   "metadata": {
    "id": "QdPay12ZE8qW"
   },
   "source": [
    "Elemen pada list dapat diubah atau ditambahkan. Misalnya untuk melakukan perubahan kemudian penambahan:"
   ]
  },
  {
   "cell_type": "code",
   "execution_count": 41,
   "metadata": {
    "colab": {
     "base_uri": "https://localhost:8080/"
    },
    "id": "DQO34qKLFSVm",
    "outputId": "77f0cb24-5f32-48bf-9d66-cf7c4440193c"
   },
   "outputs": [
    {
     "name": "stdout",
     "output_type": "stream",
     "text": [
      "[100000000, 4, 2, 5, 3, 7, 4546, 4, 2, 343242343, 2343, 43, 45, 34, 23, 23, 42, 3444, 234]\n"
     ]
    }
   ],
   "source": [
    "#Mengganti elemen\n",
    "c[0]=100000000\n",
    "print (c)"
   ]
  },
  {
   "cell_type": "code",
   "execution_count": 16,
   "metadata": {
    "colab": {
     "base_uri": "https://localhost:8080/"
    },
    "id": "aB6N_xlXFY5-",
    "outputId": "3e2905d6-1e28-49fb-df53-92f4ed8b41bc"
   },
   "outputs": [
    {
     "name": "stdout",
     "output_type": "stream",
     "text": [
      "[1, 2, 4, 5]\n"
     ]
    }
   ],
   "source": [
    "#Menambah elemen\n",
    "x = [1,2,3]\n",
    "x[2]=4\n",
    "x.append(5) #append artinya menambah\n",
    "print(x)"
   ]
  },
  {
   "cell_type": "markdown",
   "metadata": {
    "id": "1FwZzKnb9M-K"
   },
   "source": [
    "Saatnya kamu mencoba!\n",
    "\n",
    "\n",
    "\n",
    "\n"
   ]
  },
  {
   "cell_type": "code",
   "execution_count": 44,
   "metadata": {
    "id": "v_cJVZhOFqQP"
   },
   "outputs": [
    {
     "name": "stdout",
     "output_type": "stream",
     "text": [
      "['aku adalah elemen pengganti', 4, 2, 5, 3, 7, 4546, 4, 2, 343242343, 2343, 43, 45, 34, 23, 23, 42, 3444, 234, 112312320001230, 'aku adalah elemen tambahan', 'aku adalah elemen tambahan']\n"
     ]
    }
   ],
   "source": [
    "\n",
    "c[0] = 'aku adalah elemen pengganti'\n",
    "c.append('aku adalah elemen tambahan')\n",
    "print(c)\n"
   ]
  },
  {
   "cell_type": "markdown",
   "metadata": {
    "id": "Qrrd8dGqFRgS"
   },
   "source": [
    "Untuk menghapus item pada list, gunakan fungsi del. *Ingat bahwa Indeks Python dimulai dari 0*:"
   ]
  },
  {
   "cell_type": "code",
   "execution_count": 17,
   "metadata": {
    "colab": {
     "base_uri": "https://localhost:8080/"
    },
    "id": "BNn8vPf0FkUH",
    "outputId": "7b2917b8-fdf2-4213-ba90-de907fcc333a"
   },
   "outputs": [
    {
     "name": "stdout",
     "output_type": "stream",
     "text": [
      "['kucing', 'rusa', 'gajah']\n"
     ]
    }
   ],
   "source": [
    "binatang = ['kucing', 'rusa', 'badak', 'gajah']\n",
    "del binatang[2]\n",
    "print(binatang)"
   ]
  },
  {
   "cell_type": "markdown",
   "metadata": {
    "id": "V9ZGWkmDnivN"
   },
   "source": [
    "Do it by yourself"
   ]
  },
  {
   "cell_type": "code",
   "execution_count": 47,
   "metadata": {
    "id": "BWMmSjyzFtrX"
   },
   "outputs": [
    {
     "name": "stdout",
     "output_type": "stream",
     "text": [
      "sebelum di hapus\n",
      "['aku', 'akan', 'di', 'hapus']\n",
      "sesudah dihapus\n",
      "['aku', 'akan', 'di']\n"
     ]
    }
   ],
   "source": [
    "\n",
    "d = ['aku','akan','di','hapus']\n",
    "print('sebelum di hapus')\n",
    "print(d)\n",
    "del d[3]\n",
    "print('sesudah dihapus')\n",
    "print(d)\n",
    "\n",
    "\n"
   ]
  },
  {
   "cell_type": "markdown",
   "metadata": {
    "id": "-kbc__RHFyaP"
   },
   "source": [
    "Coba tambahkan kembali:"
   ]
  },
  {
   "cell_type": "code",
   "execution_count": 18,
   "metadata": {
    "colab": {
     "base_uri": "https://localhost:8080/"
    },
    "id": "KFtb4NhTFw7D",
    "outputId": "739bc7e8-901a-42a1-f804-206d19e06c1f"
   },
   "outputs": [
    {
     "name": "stdout",
     "output_type": "stream",
     "text": [
      "['kucing', 'rusa']\n"
     ]
    }
   ],
   "source": [
    "del binatang [2]\n",
    "print(binatang)"
   ]
  },
  {
   "cell_type": "markdown",
   "metadata": {
    "id": "lCCqLRGAnnZM"
   },
   "source": [
    "Cobain yaa!"
   ]
  },
  {
   "cell_type": "code",
   "execution_count": null,
   "metadata": {
    "id": "5mlv09vRGJWX"
   },
   "outputs": [],
   "source": [
    "\n",
    "\n",
    "\n",
    "\n"
   ]
  },
  {
   "cell_type": "markdown",
   "metadata": {
    "id": "C9NM4R56F9_e"
   },
   "source": [
    "Slicing pada String"
   ]
  },
  {
   "cell_type": "markdown",
   "metadata": {
    "id": "dPZO0puQGAbG"
   },
   "source": [
    "Karena string mirip dengan list, maka slicing operator [ ]  juga dapat digunakan pada string untuk mengambil isinya atau bahkan substring. Sebuah string utuh bersifat mutable (bisa diubah), namun elemennya bersifat immutable (tidak bisa diubah)."
   ]
  },
  {
   "cell_type": "code",
   "execution_count": 19,
   "metadata": {
    "colab": {
     "base_uri": "https://localhost:8080/"
    },
    "id": "DyvdYPs0GGU8",
    "outputId": "a7dbe483-6017-4990-acc3-f37f6d684566"
   },
   "outputs": [
    {
     "name": "stdout",
     "output_type": "stream",
     "text": [
      "l\n",
      "muala\n",
      "Halo Dunia!\n"
     ]
    }
   ],
   "source": [
    "s = \"Assalamualaikum Dunia!\"\n",
    "print(s[4]) \t\t#ambil karakter kelima dari string s\n",
    "print(s[6:11]) \t\t#ambil karakter ketujuh hingga sebelas dari string s\n",
    "s = \"Halo Dunia!\"\t#ubah isi string s menjadi \"Halo Dunia!\", seharusnya berhasil karena mutable\n",
    "print (s)"
   ]
  },
  {
   "cell_type": "code",
   "execution_count": 53,
   "metadata": {
    "colab": {
     "base_uri": "https://localhost:8080/",
     "height": 164
    },
    "id": "1kjxRvOxGlDc",
    "outputId": "b9bfce22-4aeb-463c-eb4f-76792b1f9f55"
   },
   "outputs": [
    {
     "ename": "TypeError",
     "evalue": "'str' object does not support item assignment",
     "output_type": "error",
     "traceback": [
      "\u001b[0;31m---------------------------------------------------------------------------\u001b[0m",
      "\u001b[0;31mTypeError\u001b[0m                                 Traceback (most recent call last)",
      "\u001b[0;32m<ipython-input-53-f641e886bd3f>\u001b[0m in \u001b[0;36m<module>\u001b[0;34m\u001b[0m\n\u001b[0;32m----> 1\u001b[0;31m \u001b[0ms\u001b[0m\u001b[0;34m[\u001b[0m\u001b[0;36m5\u001b[0m\u001b[0;34m]\u001b[0m\u001b[0;34m=\u001b[0m\u001b[0;34m\"d\"\u001b[0m        \u001b[0;31m#ubah karakter keenam dari string s menjadi \"d\", seharusnya gagal karena immutable\u001b[0m\u001b[0;34m\u001b[0m\u001b[0;34m\u001b[0m\u001b[0m\n\u001b[0m\u001b[1;32m      2\u001b[0m \u001b[0ms\u001b[0m\u001b[0;34m[\u001b[0m\u001b[0;36m3\u001b[0m\u001b[0;34m]\u001b[0m\u001b[0;34m=\u001b[0m\u001b[0;34m\"e\"\u001b[0m\u001b[0;34m\u001b[0m\u001b[0;34m\u001b[0m\u001b[0m\n",
      "\u001b[0;31mTypeError\u001b[0m: 'str' object does not support item assignment"
     ]
    }
   ],
   "source": [
    "s[5]=\"d\"        #ubah karakter keenam dari string s menjadi \"d\", seharusnya gagal karena immutable\n",
    "s[3]=\"e\""
   ]
  },
  {
   "cell_type": "markdown",
   "metadata": {
    "id": "qtxJS1UUn4Bx"
   },
   "source": [
    "Cobain yaa!\n",
    "\n",
    "\n",
    "\n"
   ]
  },
  {
   "cell_type": "code",
   "execution_count": 51,
   "metadata": {
    "id": "NsEGK9mYGMdI"
   },
   "outputs": [
    {
     "name": "stdout",
     "output_type": "stream",
     "text": [
      "hallo Assalamualaikum dunia\n"
     ]
    }
   ],
   "source": [
    "s = \"hallo\"\n",
    "t = \"Assalamualaikum dunia\"\n",
    "print(s,t)"
   ]
  },
  {
   "cell_type": "markdown",
   "metadata": {
    "id": "yfrh-45tGopf"
   },
   "source": [
    "### **Tuple**"
   ]
  },
  {
   "cell_type": "markdown",
   "metadata": {
    "id": "q5-ebJrYGsDd"
   },
   "source": [
    "Tuple adalah jenis dari list yang tidak dapat diubah elemennya. Umumnya tuple digunakan untuk data yang bersifat sekali tulis, dan dapat dieksekusi lebih cepat. Tuple didefinisikan dengan kurung dan elemen yang dipisahkan dengan koma."
   ]
  },
  {
   "cell_type": "code",
   "execution_count": 21,
   "metadata": {
    "colab": {
     "base_uri": "https://localhost:8080/"
    },
    "id": "rIVXM9wAGugD",
    "outputId": "c211077a-9f67-46e7-c783-1e4318394ef3"
   },
   "outputs": [
    {
     "data": {
      "text/plain": [
       "(5, 'program', (1+3j))"
      ]
     },
     "execution_count": 21,
     "metadata": {},
     "output_type": "execute_result"
    }
   ],
   "source": [
    "t = (5,'program', 1+3j)\n",
    "t"
   ]
  },
  {
   "cell_type": "markdown",
   "metadata": {
    "id": "SthCvnFyGwo4"
   },
   "source": [
    "Seperti list, kita dapat melakukan slicing, namun pada tuple kita tidak dapat melakukan perubahan:"
   ]
  },
  {
   "cell_type": "code",
   "execution_count": 22,
   "metadata": {
    "colab": {
     "base_uri": "https://localhost:8080/"
    },
    "id": "wdkkWKo8G2TZ",
    "outputId": "1decb4ac-75c2-415b-e806-f3b7373fe35f"
   },
   "outputs": [
    {
     "name": "stdout",
     "output_type": "stream",
     "text": [
      "program\n",
      "(5, 'program', (1+3j))\n"
     ]
    }
   ],
   "source": [
    "t = (5,'program', 1+3j)\n",
    "print(t[1])\n",
    "print(t[0:3])\n"
   ]
  },
  {
   "cell_type": "code",
   "execution_count": 23,
   "metadata": {
    "colab": {
     "base_uri": "https://localhost:8080/",
     "height": 130
    },
    "id": "LQ_PPY-MG_ZA",
    "outputId": "65dd33d8-9dae-467a-c699-0cc302794b6b"
   },
   "outputs": [
    {
     "ename": "SyntaxError",
     "evalue": "expression cannot contain assignment, perhaps you meant \"==\"? (<ipython-input-23-8ad875f67ba4>, line 1)",
     "output_type": "error",
     "traceback": [
      "\u001b[0;36m  File \u001b[0;32m\"<ipython-input-23-8ad875f67ba4>\"\u001b[0;36m, line \u001b[0;32m1\u001b[0m\n\u001b[0;31m    print(t[0]=10) #Kok gagal, kenapa hayoooooo\u001b[0m\n\u001b[0m          ^\u001b[0m\n\u001b[0;31mSyntaxError\u001b[0m\u001b[0;31m:\u001b[0m expression cannot contain assignment, perhaps you meant \"==\"?\n"
     ]
    }
   ],
   "source": [
    "print(t[0]=10) #Kok gagal, kenapa hayoooooo\n",
    "#gagal karena elemen tuple bersifat immutable"
   ]
  },
  {
   "cell_type": "code",
   "execution_count": 24,
   "metadata": {
    "colab": {
     "base_uri": "https://localhost:8080/"
    },
    "id": "nRPuYpMaHFXH",
    "outputId": "91838d52-e8fb-4c23-c11e-abc7836711a9"
   },
   "outputs": [
    {
     "name": "stdout",
     "output_type": "stream",
     "text": [
      "(5, 6, 7, 'aku')\n",
      "6\n"
     ]
    }
   ],
   "source": [
    "a = (5, 6, 7,'aku')#bikin sendiri donk, kreatif dikit napa\n",
    "print (a)\n",
    "print(a[1])\n",
    "del[]"
   ]
  },
  {
   "cell_type": "code",
   "execution_count": 54,
   "metadata": {},
   "outputs": [
    {
     "name": "stdout",
     "output_type": "stream",
     "text": [
      "{1, 2, 3}\n"
     ]
    },
    {
     "ename": "TypeError",
     "evalue": "'set' object is not subscriptable",
     "output_type": "error",
     "traceback": [
      "\u001b[0;31m---------------------------------------------------------------------------\u001b[0m",
      "\u001b[0;31mTypeError\u001b[0m                                 Traceback (most recent call last)",
      "\u001b[0;32m<ipython-input-54-181d5becebcb>\u001b[0m in \u001b[0;36m<module>\u001b[0;34m\u001b[0m\n\u001b[1;32m      1\u001b[0m \u001b[0mb\u001b[0m \u001b[0;34m=\u001b[0m \u001b[0;34m(\u001b[0m\u001b[0;36m1\u001b[0m\u001b[0;34m,\u001b[0m\u001b[0;36m2\u001b[0m\u001b[0;34m,\u001b[0m\u001b[0;36m3\u001b[0m\u001b[0;34m,\u001b[0m\u001b[0;36m3434\u001b[0m\u001b[0;34m,\u001b[0m\u001b[0;36m34\u001b[0m\u001b[0;34m,\u001b[0m\u001b[0;36m12\u001b[0m\u001b[0;34m,\u001b[0m\u001b[0;34m\"bisa\"\u001b[0m\u001b[0;34m)\u001b[0m\u001b[0;34m\u001b[0m\u001b[0;34m\u001b[0m\u001b[0m\n\u001b[1;32m      2\u001b[0m \u001b[0mprint\u001b[0m\u001b[0;34m(\u001b[0m\u001b[0ma\u001b[0m\u001b[0;34m)\u001b[0m\u001b[0;34m\u001b[0m\u001b[0;34m\u001b[0m\u001b[0m\n\u001b[0;32m----> 3\u001b[0;31m \u001b[0mprint\u001b[0m\u001b[0;34m(\u001b[0m\u001b[0ma\u001b[0m\u001b[0;34m[\u001b[0m\u001b[0;36m1\u001b[0m\u001b[0;34m]\u001b[0m\u001b[0;34m)\u001b[0m\u001b[0;34m\u001b[0m\u001b[0;34m\u001b[0m\u001b[0m\n\u001b[0m\u001b[1;32m      4\u001b[0m \u001b[0;32mdel\u001b[0m\u001b[0;34m[\u001b[0m\u001b[0;34m]\u001b[0m\u001b[0;34m\u001b[0m\u001b[0;34m\u001b[0m\u001b[0m\n",
      "\u001b[0;31mTypeError\u001b[0m: 'set' object is not subscriptable"
     ]
    }
   ],
   "source": [
    "b = (1,2,3,3434,34,12,\"bisa\")\n",
    "print(a)\n",
    "print(a[1])\n",
    "del[]"
   ]
  },
  {
   "cell_type": "markdown",
   "metadata": {
    "id": "Ufp-xMDRHWor"
   },
   "source": [
    "### **Set**"
   ]
  },
  {
   "cell_type": "markdown",
   "metadata": {
    "id": "0K6YzzmLHZN1"
   },
   "source": [
    "Set adalah kumpulan item bersifat unik dan tanpa urutan (unordered collection). Didefinisikan dengan kurawal dan elemennya dipisahkan dengan koma. Pada Set kita dapat melakukan union dan intersection, sekaligus otomatis melakukan penghapusan data duplikat."
   ]
  },
  {
   "cell_type": "code",
   "execution_count": 25,
   "metadata": {
    "colab": {
     "base_uri": "https://localhost:8080/"
    },
    "id": "adRdgxovHbKI",
    "outputId": "8806bc80-2506-49f8-fa69-cdada308d757"
   },
   "outputs": [
    {
     "name": "stdout",
     "output_type": "stream",
     "text": [
      "{1, 2, 3}\n"
     ]
    }
   ],
   "source": [
    "a = {1,2,2,3,3,3}\n",
    "print(a)"
   ]
  },
  {
   "cell_type": "markdown",
   "metadata": {
    "id": "CXmsYZIwHjpl"
   },
   "source": [
    "Karena set bersifat unordered, maka kita tidak bisa mengambil sebagian data / elemen datanya menggunakan proses slicing."
   ]
  },
  {
   "cell_type": "code",
   "execution_count": 55,
   "metadata": {
    "colab": {
     "base_uri": "https://localhost:8080/",
     "height": 181
    },
    "id": "gonptHs5Hk3C",
    "outputId": "ee31c8cd-7b11-4a8a-a51f-2e9295cdcbfd"
   },
   "outputs": [
    {
     "ename": "TypeError",
     "evalue": "'set' object is not subscriptable",
     "output_type": "error",
     "traceback": [
      "\u001b[0;31m---------------------------------------------------------------------------\u001b[0m",
      "\u001b[0;31mTypeError\u001b[0m                                 Traceback (most recent call last)",
      "\u001b[0;32m<ipython-input-55-3732f14f209e>\u001b[0m in \u001b[0;36m<module>\u001b[0;34m\u001b[0m\n\u001b[1;32m      1\u001b[0m \u001b[0ma\u001b[0m \u001b[0;34m=\u001b[0m \u001b[0;34m{\u001b[0m\u001b[0;36m1\u001b[0m\u001b[0;34m,\u001b[0m\u001b[0;36m2\u001b[0m\u001b[0;34m,\u001b[0m\u001b[0;36m3\u001b[0m\u001b[0;34m}\u001b[0m\u001b[0;34m\u001b[0m\u001b[0;34m\u001b[0m\u001b[0m\n\u001b[0;32m----> 2\u001b[0;31m \u001b[0mprint\u001b[0m\u001b[0;34m(\u001b[0m\u001b[0ma\u001b[0m\u001b[0;34m[\u001b[0m\u001b[0;36m1\u001b[0m\u001b[0;34m]\u001b[0m\u001b[0;34m)\u001b[0m\u001b[0;34m\u001b[0m\u001b[0;34m\u001b[0m\u001b[0m\n\u001b[0m",
      "\u001b[0;31mTypeError\u001b[0m: 'set' object is not subscriptable"
     ]
    }
   ],
   "source": [
    "a = {1,2,3}\n",
    "print(a[1])"
   ]
  },
  {
   "cell_type": "code",
   "execution_count": 56,
   "metadata": {},
   "outputs": [
    {
     "ename": "TypeError",
     "evalue": "'set' object is not subscriptable",
     "output_type": "error",
     "traceback": [
      "\u001b[0;31m---------------------------------------------------------------------------\u001b[0m",
      "\u001b[0;31mTypeError\u001b[0m                                 Traceback (most recent call last)",
      "\u001b[0;32m<ipython-input-56-8fbcf25798e3>\u001b[0m in \u001b[0;36m<module>\u001b[0;34m\u001b[0m\n\u001b[1;32m      1\u001b[0m \u001b[0ma\u001b[0m \u001b[0;34m=\u001b[0m \u001b[0;34m{\u001b[0m\u001b[0;36m1\u001b[0m\u001b[0;34m,\u001b[0m\u001b[0;36m123\u001b[0m\u001b[0;34m,\u001b[0m\u001b[0;36m12\u001b[0m\u001b[0;34m,\u001b[0m\u001b[0;36m12\u001b[0m\u001b[0;34m,\u001b[0m\u001b[0;36m12\u001b[0m\u001b[0;34m,\u001b[0m\u001b[0;36m3\u001b[0m\u001b[0;34m,\u001b[0m\u001b[0;36m3\u001b[0m\u001b[0;34m,\u001b[0m\u001b[0;36m23\u001b[0m\u001b[0;34m,\u001b[0m\u001b[0;36m23\u001b[0m\u001b[0;34m,\u001b[0m\u001b[0;36m2\u001b[0m\u001b[0;34m}\u001b[0m\u001b[0;34m\u001b[0m\u001b[0;34m\u001b[0m\u001b[0m\n\u001b[0;32m----> 2\u001b[0;31m \u001b[0mprint\u001b[0m\u001b[0;34m(\u001b[0m\u001b[0ma\u001b[0m\u001b[0;34m[\u001b[0m\u001b[0;36m2\u001b[0m\u001b[0;34m]\u001b[0m\u001b[0;34m)\u001b[0m\u001b[0;34m\u001b[0m\u001b[0;34m\u001b[0m\u001b[0m\n\u001b[0m",
      "\u001b[0;31mTypeError\u001b[0m: 'set' object is not subscriptable"
     ]
    }
   ],
   "source": [
    "a = {1,123,12,12,12,3,3,23,23,2}\n",
    "print(a[2])"
   ]
  },
  {
   "cell_type": "markdown",
   "metadata": {
    "id": "1FmHwEmNHpAj"
   },
   "source": [
    "### **Dictionary**"
   ]
  },
  {
   "cell_type": "markdown",
   "metadata": {
    "id": "FgjmIuQ0I90t"
   },
   "source": [
    "Dictionary pada Python adalah kumpulan pasangan kunci-nilai (pair of key-value) yang bersifat tidak berurutan. Dictionary dapat digunakan untuk menyimpan data kecil hingga besar. Untuk mengakses datanya, kita harus mengetahui kuncinya (key). Pada Python, dictionary didefinisikan dengan kurawal dan tambahan definisi berikut:"
   ]
  },
  {
   "cell_type": "markdown",
   "metadata": {
    "id": "HRXgW2D3I_-6"
   },
   "source": [
    "1. Setiap elemen pair key-value dipisahkan dengan koma (,).\n",
    "2. Key dan Value dipisahkan dengan titik dua (:).\n",
    "3. Key dan Value dapat berupa tipe variabel/obyek apapun."
   ]
  },
  {
   "cell_type": "code",
   "execution_count": 27,
   "metadata": {
    "colab": {
     "base_uri": "https://localhost:8080/"
    },
    "id": "OPuAC6kKJFAQ",
    "outputId": "11d47bdd-21cf-482f-e461-620ba5cb9b29"
   },
   "outputs": [
    {
     "name": "stdout",
     "output_type": "stream",
     "text": [
      "<class 'dict'>\n"
     ]
    }
   ],
   "source": [
    "d = {1:'value','key':2}\n",
    "print(type(d))"
   ]
  },
  {
   "cell_type": "code",
   "execution_count": 28,
   "metadata": {
    "colab": {
     "base_uri": "https://localhost:8080/"
    },
    "id": "fvOfhQMsJHi-",
    "outputId": "6a7c0be8-f323-4329-8e65-0943e9f3e387"
   },
   "outputs": [
    {
     "name": "stdout",
     "output_type": "stream",
     "text": [
      "<class 'dict'>\n",
      "d[1] =  value\n",
      "d['key'] =  2\n"
     ]
    }
   ],
   "source": [
    "d = {1:'value','key':2}\n",
    "print(type(d))\n",
    "print(\"d[1] = \", d[1]);\n",
    "print(\"d['key'] = \", d['key']);"
   ]
  },
  {
   "cell_type": "markdown",
   "metadata": {
    "id": "rmfBt8OxJNGI"
   },
   "source": [
    "Dictionary bukan termasuk dalam implementasi urutan (sequences), sehingga tidak bisa dipanggil dengan urutan indeks. Misalnya dalam contoh berikut dicoba dengan indeks 2, tetapi menghasilkan error (KeyError) karena tidak ada kunci (key) 2:"
   ]
  },
  {
   "cell_type": "code",
   "execution_count": 29,
   "metadata": {
    "colab": {
     "base_uri": "https://localhost:8080/"
    },
    "id": "6fDwroEqJOK_",
    "outputId": "ab3f8f63-a20a-466d-f10c-b974b0557f67"
   },
   "outputs": [
    {
     "name": "stdout",
     "output_type": "stream",
     "text": [
      "<class 'dict'>\n",
      "d[1] =  value\n",
      "d['key'] =  2\n"
     ]
    }
   ],
   "source": [
    "d = {1:'value','key':2}\n",
    "print(type(d))\n",
    "print(\"d[1] = \", d[1]);\n",
    "print(\"d['key'] = \", d['key']);"
   ]
  },
  {
   "cell_type": "code",
   "execution_count": 30,
   "metadata": {
    "colab": {
     "base_uri": "https://localhost:8080/",
     "height": 181
    },
    "id": "O5DEeN6PJScD",
    "outputId": "16aa4964-4d97-46d7-85ba-70cfde1b4af3"
   },
   "outputs": [
    {
     "ename": "KeyError",
     "evalue": "2",
     "output_type": "error",
     "traceback": [
      "\u001b[0;31m---------------------------------------------------------------------------\u001b[0m",
      "\u001b[0;31mKeyError\u001b[0m                                  Traceback (most recent call last)",
      "\u001b[0;32m<ipython-input-30-e6e41397ea50>\u001b[0m in \u001b[0;36m<module>\u001b[0;34m\u001b[0m\n\u001b[1;32m      1\u001b[0m \u001b[0;31m# Nyobain error\u001b[0m\u001b[0;34m\u001b[0m\u001b[0;34m\u001b[0m\u001b[0;34m\u001b[0m\u001b[0m\n\u001b[0;32m----> 2\u001b[0;31m \u001b[0mprint\u001b[0m\u001b[0;34m(\u001b[0m\u001b[0;34m\"d[2] = \"\u001b[0m\u001b[0;34m,\u001b[0m \u001b[0md\u001b[0m\u001b[0;34m[\u001b[0m\u001b[0;36m2\u001b[0m\u001b[0;34m]\u001b[0m\u001b[0;34m)\u001b[0m\u001b[0;34m;\u001b[0m\u001b[0;34m\u001b[0m\u001b[0;34m\u001b[0m\u001b[0m\n\u001b[0m",
      "\u001b[0;31mKeyError\u001b[0m: 2"
     ]
    }
   ],
   "source": [
    "# Nyobain error\n",
    "print(\"d[2] = \", d[2]); #karena index 2 bukan sebuah key dalam dictionary"
   ]
  },
  {
   "cell_type": "code",
   "execution_count": 67,
   "metadata": {
    "id": "Kcw4IRnIJbCA"
   },
   "outputs": [],
   "source": [
    "#bikin versimu sendiri yaaa\n",
    "d = {1:'value','key':2,'kunci':'value','isi':'kuni'}\n",
    "d['kunci']\n",
    "\n",
    "#pada dictionary kunci harus berada di depan dari value\n",
    "d = {'ini kunci':'ini valuenya','ini bukan value':'ini bukan kunci'}"
   ]
  },
  {
   "cell_type": "markdown",
   "metadata": {
    "id": "Y_mfIBaOCwFd"
   },
   "source": [
    "### **Konversi Struktur Data**"
   ]
  },
  {
   "cell_type": "markdown",
   "metadata": {
    "id": "PxZ9TS3rC02h"
   },
   "source": [
    "Fungsi untuk mengubah/konversi struktur data:\n",
    "\n",
    "a. list() : untuk mengubah menjadi list\n",
    "\n",
    "b. tuple() : untuk mengubah menjadi tuple\n",
    "\n",
    "c. set() : untuk mengubah menjadi set\n",
    "\n",
    "d. dict() : untuk mengubah menjadi dictonary"
   ]
  },
  {
   "cell_type": "markdown",
   "metadata": {
    "id": "hp1bG1BQC4zb"
   },
   "source": [
    "Contoh:"
   ]
  },
  {
   "cell_type": "code",
   "execution_count": 32,
   "metadata": {
    "colab": {
     "base_uri": "https://localhost:8080/"
    },
    "id": "apEPtnDUtmkH",
    "outputId": "87ca5de9-1934-46e3-8cb2-7b3cf0751805"
   },
   "outputs": [
    {
     "name": "stdout",
     "output_type": "stream",
     "text": [
      "data =  [1, 2, 3, 4, 5] ,type = <class 'list'>\n"
     ]
    }
   ],
   "source": [
    "list1 = [1,2,3,4,5]\n",
    "list2 = [\"satu\",\"dua\",\"tiga\",\"empat\",\"lima\"]\n",
    "print(\"data = \", list1 , \",type =\", type(list1))"
   ]
  },
  {
   "cell_type": "code",
   "execution_count": 33,
   "metadata": {
    "colab": {
     "base_uri": "https://localhost:8080/"
    },
    "id": "9hbpCgC7C9v3",
    "outputId": "5c7fa0ed-662c-4e1d-c091-37ddff0859f6"
   },
   "outputs": [
    {
     "name": "stdout",
     "output_type": "stream",
     "text": [
      "(1, 2, 3, 4, 5)\n",
      "{1, 2, 3, 4, 5}\n",
      "{'satu': 1, 'dua': 2, 'tiga': 3, 'empat': 4, 'lima': 5}\n"
     ]
    }
   ],
   "source": [
    "# Mengkonversi struktur data list\n",
    "kon_tuple = tuple(list1)\n",
    "kon_set = set(list1)\n",
    "kon_dict = dict(zip(list2,list1))\n",
    "\n",
    "# Melihat data yang telah dikonversi\n",
    "print(kon_tuple)\n",
    "print(kon_set)\n",
    "print(kon_dict)"
   ]
  },
  {
   "cell_type": "markdown",
   "metadata": {
    "id": "o5MfcC36Jpxu"
   },
   "source": [
    "Nah sampai sini, coba kamu tulis pemahaman kamu tentang List, Tuple, Set, dan Dictionary, tulis pake bahasa kamu sendiri ya:\n",
    "\n",
    "\n",
    "\n",
    "\n",
    "\n",
    "\n",
    "\n",
    "\n",
    "\n",
    "\n",
    "\n",
    "\n",
    "\n",
    "\n"
   ]
  },
  {
   "cell_type": "markdown",
   "metadata": {
    "id": "3uj7jo-sJ6EF"
   },
   "source": [
    "#**Udah Dulu Ya**\n",
    "\n",
    "Alhamdulillah\n",
    "\n",
    "\n",
    "\n",
    "\n",
    "\n",
    "\n",
    "\n"
   ]
  }
 ],
 "metadata": {
  "colab": {
   "collapsed_sections": [],
   "name": "[KD0201]_Variabel_&_Tipe_Data.ipynb",
   "provenance": [],
   "toc_visible": true
  },
  "kernelspec": {
   "display_name": "Python 3",
   "language": "python",
   "name": "python3"
  },
  "language_info": {
   "codemirror_mode": {
    "name": "ipython",
    "version": 3
   },
   "file_extension": ".py",
   "mimetype": "text/x-python",
   "name": "python",
   "nbconvert_exporter": "python",
   "pygments_lexer": "ipython3",
   "version": "3.8.5"
  }
 },
 "nbformat": 4,
 "nbformat_minor": 1
}
